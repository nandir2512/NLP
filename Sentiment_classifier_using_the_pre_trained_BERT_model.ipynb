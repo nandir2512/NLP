{
  "cells": [
    {
      "cell_type": "markdown",
      "metadata": {
        "id": "view-in-github",
        "colab_type": "text"
      },
      "source": [
        "<a href=\"https://colab.research.google.com/github/nandir2512/NLP/blob/main/Sentiment_classifier_using_the_pre_trained_BERT_model.ipynb\" target=\"_parent\"><img src=\"https://colab.research.google.com/assets/colab-badge.svg\" alt=\"Open In Colab\"/></a>"
      ]
    },
    {
      "cell_type": "markdown",
      "metadata": {
        "id": "pGhg3F-77BPp"
      },
      "source": [
        "NOTE - Due to less enviroment configuration model accuracy is less. You can increase the model accuracy by changing below configration.\n",
        "* Increased training data set (In this notebook i used only 25% of the data)\n",
        "* increase the padding length (Here i used 256)\n",
        "* increase number_of_epochs (Here i used 2)\n",
        "* batch_size (Here i used 8)\n",
        "\n",
        "### We use the `transformers` package from `HuggingFace` for pre-trained `transformers-based` language models"
      ]
    },
    {
      "cell_type": "code",
      "execution_count": 1,
      "metadata": {
        "colab": {
          "base_uri": "https://localhost:8080/"
        },
        "id": "t-HM4r6a6n0y",
        "outputId": "e3a37e19-a672-40ad-c567-1f66aa5fa206"
      },
      "outputs": [
        {
          "output_type": "stream",
          "name": "stdout",
          "text": [
            "Requirement already satisfied: transformers in /usr/local/lib/python3.10/dist-packages (4.33.2)\n",
            "Requirement already satisfied: filelock in /usr/local/lib/python3.10/dist-packages (from transformers) (3.12.2)\n",
            "Requirement already satisfied: huggingface-hub<1.0,>=0.15.1 in /usr/local/lib/python3.10/dist-packages (from transformers) (0.17.2)\n",
            "Requirement already satisfied: numpy>=1.17 in /usr/local/lib/python3.10/dist-packages (from transformers) (1.23.5)\n",
            "Requirement already satisfied: packaging>=20.0 in /usr/local/lib/python3.10/dist-packages (from transformers) (23.1)\n",
            "Requirement already satisfied: pyyaml>=5.1 in /usr/local/lib/python3.10/dist-packages (from transformers) (6.0.1)\n",
            "Requirement already satisfied: regex!=2019.12.17 in /usr/local/lib/python3.10/dist-packages (from transformers) (2023.6.3)\n",
            "Requirement already satisfied: requests in /usr/local/lib/python3.10/dist-packages (from transformers) (2.31.0)\n",
            "Requirement already satisfied: tokenizers!=0.11.3,<0.14,>=0.11.1 in /usr/local/lib/python3.10/dist-packages (from transformers) (0.13.3)\n",
            "Requirement already satisfied: safetensors>=0.3.1 in /usr/local/lib/python3.10/dist-packages (from transformers) (0.3.3)\n",
            "Requirement already satisfied: tqdm>=4.27 in /usr/local/lib/python3.10/dist-packages (from transformers) (4.66.1)\n",
            "Requirement already satisfied: fsspec in /usr/local/lib/python3.10/dist-packages (from huggingface-hub<1.0,>=0.15.1->transformers) (2023.6.0)\n",
            "Requirement already satisfied: typing-extensions>=3.7.4.3 in /usr/local/lib/python3.10/dist-packages (from huggingface-hub<1.0,>=0.15.1->transformers) (4.5.0)\n",
            "Requirement already satisfied: charset-normalizer<4,>=2 in /usr/local/lib/python3.10/dist-packages (from requests->transformers) (3.2.0)\n",
            "Requirement already satisfied: idna<4,>=2.5 in /usr/local/lib/python3.10/dist-packages (from requests->transformers) (3.4)\n",
            "Requirement already satisfied: urllib3<3,>=1.21.1 in /usr/local/lib/python3.10/dist-packages (from requests->transformers) (2.0.4)\n",
            "Requirement already satisfied: certifi>=2017.4.17 in /usr/local/lib/python3.10/dist-packages (from requests->transformers) (2023.7.22)\n"
          ]
        },
        {
          "output_type": "stream",
          "name": "stderr",
          "text": [
            "[nltk_data] Downloading package movie_reviews to /root/nltk_data...\n",
            "[nltk_data]   Package movie_reviews is already up-to-date!\n",
            "[nltk_data] Downloading package stopwords to /root/nltk_data...\n",
            "[nltk_data]   Package stopwords is already up-to-date!\n"
          ]
        },
        {
          "output_type": "execute_result",
          "data": {
            "text/plain": [
              "True"
            ]
          },
          "metadata": {},
          "execution_count": 1
        }
      ],
      "source": [
        "!pip install transformers\n",
        "import nltk\n",
        "nltk.download('movie_reviews')\n",
        "nltk.download('stopwords')"
      ]
    },
    {
      "cell_type": "markdown",
      "metadata": {
        "id": "qPcsKXY27N4l"
      },
      "source": [
        "## Package Import"
      ]
    },
    {
      "cell_type": "code",
      "execution_count": 2,
      "metadata": {
        "id": "AABdkCyu6x1g"
      },
      "outputs": [],
      "source": [
        "import pandas as pd, numpy as np\n",
        "import sklearn\n",
        "import unicodedata\n",
        "import random, re, nltk\n",
        "from nltk.corpus import movie_reviews\n",
        "from sklearn.model_selection import train_test_split\n",
        "import tensorflow as tf\n",
        "import tensorflow.keras as keras\n",
        "import transformers\n",
        "from transformers import BertTokenizer, TFBertForSequenceClassification\n"
      ]
    },
    {
      "cell_type": "code",
      "execution_count": 3,
      "metadata": {
        "colab": {
          "base_uri": "https://localhost:8080/"
        },
        "id": "6NXDhQAv7zPz",
        "outputId": "ece105dc-43f9-4b22-9d5e-3002d5edcf17"
      },
      "outputs": [
        {
          "output_type": "stream",
          "name": "stdout",
          "text": [
            "2.12.0\n",
            "4.33.2\n"
          ]
        }
      ],
      "source": [
        "print(tf.__version__)\n",
        "print(transformers.__version__)"
      ]
    },
    {
      "cell_type": "code",
      "execution_count": 4,
      "metadata": {
        "colab": {
          "base_uri": "https://localhost:8080/"
        },
        "id": "tzsCH68a796f",
        "outputId": "843d0b48-9c24-4287-f3b1-67536219ce0a"
      },
      "outputs": [
        {
          "output_type": "execute_result",
          "data": {
            "text/plain": [
              "<tf.Tensor: shape=(1, 1), dtype=int32, numpy=array([[1]], dtype=int32)>"
            ]
          },
          "metadata": {},
          "execution_count": 4
        }
      ],
      "source": [
        "tf.reshape(tf.constant(1), (-1,1))"
      ]
    },
    {
      "cell_type": "markdown",
      "metadata": {
        "id": "D_-akeAc8T2_"
      },
      "source": [
        "## Data Loading"
      ]
    },
    {
      "cell_type": "code",
      "execution_count": 5,
      "metadata": {
        "id": "tBLjt4ED8RX3"
      },
      "outputs": [],
      "source": [
        "documents = [(' '.join(movie_reviews.words(fileid)), category)\n",
        "            for category in movie_reviews.categories()\n",
        "            for fileid in movie_reviews.fileids(category)]\n",
        "\n",
        "random.shuffle(documents)"
      ]
    },
    {
      "cell_type": "markdown",
      "metadata": {
        "id": "z-9KyzIp854Z"
      },
      "source": [
        "## Train-Test Split"
      ]
    },
    {
      "cell_type": "code",
      "execution_count": 6,
      "metadata": {
        "colab": {
          "base_uri": "https://localhost:8080/"
        },
        "id": "cWsyjAep8tQR",
        "outputId": "fd7723c7-6e76-4cdb-b87f-3576334d9c40"
      },
      "outputs": [
        {
          "output_type": "stream",
          "name": "stdout",
          "text": [
            "500 100\n"
          ]
        }
      ],
      "source": [
        "train_set, test_set = train_test_split(documents, train_size=0.25, test_size=0.05, random_state=42)\n",
        "\n",
        "print(len(train_set), len(test_set))"
      ]
    },
    {
      "cell_type": "markdown",
      "metadata": {
        "id": "1TmHif_S9I_x"
      },
      "source": [
        "## Define X and y"
      ]
    },
    {
      "cell_type": "code",
      "execution_count": 7,
      "metadata": {
        "id": "Hzkb3dAV9Hb9"
      },
      "outputs": [],
      "source": [
        "X_train_text = [text for (text, label) in train_set]\n",
        "y_train = [1 if label == 'pos' else 0 for text, label in train_set]\n",
        "\n",
        "X_test_text = [text for (text, label) in test_set]\n",
        "y_test = [1 if label == 'pos' else 0 for text, label in test_set]"
      ]
    },
    {
      "cell_type": "markdown",
      "metadata": {
        "id": "W4cEN6PN-EpW"
      },
      "source": [
        "## HuggingFace transformers\n",
        "In transformers, we can access many different versions of pre-trained BERT models:\n",
        "\n",
        "  * BERT-Base, Uncased: 12-layer, 768-hidden, 12-heads, 110M parameters\n",
        "  * BERT-Large, Uncased: 24-layer, 1024-hidden, 16-heads, 340M parameters\n",
        "  * BERT-Base, Cased: 12-layer, 768-hidden, 12-heads , 110M parameters\n",
        "  * BERT-Large, Cased: 24-layer, 1024-hidden, 16-heads, 340M parameters"
      ]
    },
    {
      "cell_type": "markdown",
      "metadata": {
        "id": "WMGtGF-X-amA"
      },
      "source": [
        "# Tokenizers\n",
        "* Each pre-trained model follows a specific mechanism of tokenization.\n",
        "* Therefore, we need to use the model-specific tokenizer for text vectorization.\n",
        "* Specifically, BERT uses the WordPiece tokenization."
      ]
    },
    {
      "cell_type": "code",
      "execution_count": 8,
      "metadata": {
        "id": "vtCy50MW95Zo"
      },
      "outputs": [],
      "source": [
        "num_classes =2\n",
        "bert_tokenizer = BertTokenizer.from_pretrained (\"bert-base-uncased\", do_lower_case=True)"
      ]
    },
    {
      "cell_type": "markdown",
      "metadata": {
        "id": "s61QXHd_-1xC"
      },
      "source": [
        "## Intuition of BERT Tokenizer\n",
        "`BertTokenizer.tokenize()` tokenizes sequences into word-pieces."
      ]
    },
    {
      "cell_type": "code",
      "execution_count": 9,
      "metadata": {
        "colab": {
          "base_uri": "https://localhost:8080/"
        },
        "id": "0vGmKHCd-yi5",
        "outputId": "d3cdd2b3-8d36-4cdb-d6c8-6f70460302af"
      },
      "outputs": [
        {
          "output_type": "stream",
          "name": "stdout",
          "text": [
            "['don', \"'\", 't', 'like', 'it', '!']\n"
          ]
        }
      ],
      "source": [
        "sent = \"Don't like it!\"\n",
        "tokens = bert_tokenizer.tokenize(sent)\n",
        "print(tokens)"
      ]
    },
    {
      "cell_type": "code",
      "execution_count": 10,
      "metadata": {
        "colab": {
          "base_uri": "https://localhost:8080/"
        },
        "id": "7wBLgq9Z_HZA",
        "outputId": "4e97419a-135f-47c5-f195-917599fa0f6d"
      },
      "outputs": [
        {
          "output_type": "execute_result",
          "data": {
            "text/plain": [
              "{'input_ids': [101, 2123, 1005, 1056, 2066, 2009, 999, 102], 'token_type_ids': [0, 0, 0, 0, 0, 0, 0, 0], 'attention_mask': [1, 1, 1, 1, 1, 1, 1, 1]}"
            ]
          },
          "metadata": {},
          "execution_count": 10
        }
      ],
      "source": [
        "bert_tokenizer.encode_plus(sent)"
      ]
    },
    {
      "cell_type": "markdown",
      "metadata": {
        "id": "rU1Js-_7AA5s"
      },
      "source": [
        "## BertTokenizer.encode_plus()\n",
        "* We use `BertTokenizer.encode_plus()` to convert sequences into input formats for later BERT-based classifier.\n",
        "* `BertTokenizer.encode_plus()` returns a dictionary of three objects:\n",
        "  * `input_ids`: These correspond to the integers/sequences of the tokens in the input (i.e., the text_to_sequences() in keras).\n",
        "  * `type_token_ids`: These ids indicate the sentence number that tokens belong to. (BERT can take up to two sequences at a time).\n",
        "  * `attention_mask`: Similar to keras Mask layer, this mask indicates with tokens are actual tokens and which are padding tokens so that the attention calculation would ignore the latter."
      ]
    },
    {
      "cell_type": "code",
      "execution_count": 11,
      "metadata": {
        "colab": {
          "base_uri": "https://localhost:8080/"
        },
        "id": "YxVJiovv_ers",
        "outputId": "ab5c31ef-8596-4ce1-c780-e34c2d81a434"
      },
      "outputs": [
        {
          "output_type": "execute_result",
          "data": {
            "text/plain": [
              "{'input_ids': [101, 2123, 1005, 1056, 2066, 2009, 999, 102, 0, 0], 'token_type_ids': [0, 0, 0, 0, 0, 0, 0, 0, 0, 0], 'attention_mask': [1, 1, 1, 1, 1, 1, 1, 1, 0, 0]}"
            ]
          },
          "metadata": {},
          "execution_count": 11
        }
      ],
      "source": [
        "tokenized_sequence = bert_tokenizer.encode_plus(sent,\n",
        "                                                add_special_tokens=True,\n",
        "                                                max_length=10,\n",
        "                                                padding='max_length',\n",
        "                                                truncation=True,\n",
        "                                                return_attention_mask=True)\n",
        "\n",
        "tokenized_sequence"
      ]
    },
    {
      "cell_type": "markdown",
      "metadata": {
        "id": "0rlgf0kSAegu"
      },
      "source": [
        "BertTokenizer, when tokenizing the sequences, would add special tokens. Important special tokens include:\n",
        "\n",
        "* [SEP] and [CLS] are special tokens added by the BertTokenizer.\n",
        "* [SEP] is needed when the task required two sequences at a time (e.g., in BERT training).\n",
        "* [CLS], added at the beginning of the input, stand for classifier token. The embedding of this token can be seen as the summary of the inputs, which is ready for downstream classification problems. That is, this pooled output [CLS] can the input of the additional layers on top of the BERT model (i.e., [CLS] can be viewed as the document embeddings).\n",
        "* [CLS] = 101 & [SEP] = 102 token value"
      ]
    },
    {
      "cell_type": "code",
      "execution_count": 12,
      "metadata": {
        "colab": {
          "base_uri": "https://localhost:8080/",
          "height": 35
        },
        "id": "MHTjmaCJAaXH",
        "outputId": "007e9297-a60f-4304-a73d-469f683cd8b7"
      },
      "outputs": [
        {
          "output_type": "execute_result",
          "data": {
            "text/plain": [
              "\"[CLS] don ' t like it ! [SEP] [PAD] [PAD]\""
            ],
            "application/vnd.google.colaboratory.intrinsic+json": {
              "type": "string"
            }
          },
          "metadata": {},
          "execution_count": 12
        }
      ],
      "source": [
        "bert_tokenizer.decode(tokenized_sequence['input_ids'],\n",
        "                      clean_up_tokenization_spaces=False)"
      ]
    },
    {
      "cell_type": "markdown",
      "metadata": {
        "id": "icwl201KBCx1"
      },
      "source": [
        "# From Text to BERT Input\n",
        "* When tokenizing, we can determine the `max_length` of each text.\n",
        "* Also, we need to specify `padding` and `truncation` to make sure that the `BertTokenizer` automatically pad/truncate the sequences to uniform lengths."
      ]
    },
    {
      "cell_type": "code",
      "execution_count": 13,
      "metadata": {
        "id": "KM8lOMaEA8rq"
      },
      "outputs": [],
      "source": [
        "y_train = np.array(y_train)\n",
        "y_test = np.array(y_test)"
      ]
    },
    {
      "cell_type": "markdown",
      "metadata": {
        "id": "rdzrgwgiBdY3"
      },
      "source": [
        "Important Arguments of BertTokenizer.encode_plus():\n",
        "\n",
        "* `text:` The sequence or batch of sequences to be encoded. Each sequence can be a string or a list of strings (pretokenized string).\n",
        "* `add_special_tokens:` Whether or not to encode the sequences with the special tokens relative to their model.\n",
        "* `max_length:` Controls the maximum length to use by one of the truncation/padding parameters. (max_length≤512)\n",
        "* `padding:` Whether or not to pad the sequences to the maximum length.\n",
        "* `return_attention_mask`"
      ]
    },
    {
      "cell_type": "code",
      "execution_count": 14,
      "metadata": {
        "id": "h8qr0WlaBc57"
      },
      "outputs": [],
      "source": [
        "def convert_example_to_feature(review):\n",
        "  return bert_tokenizer.encode_plus(review,\n",
        "                                    add_special_token = True,  #add[CLS],[SEP]\n",
        "                                    max_length = 256,   #max length of the text that can go to Bert\n",
        "                                    padding= 'max_length',\n",
        "                                    truncation= True,\n",
        "                                    return_attention_mast =True,  #add attention mask to not focus on pad tokens\n",
        "\n",
        "                                    )"
      ]
    },
    {
      "cell_type": "markdown",
      "metadata": {
        "id": "LhKFvvyZCrBm"
      },
      "source": [
        "Then we prepare inputs for later Bert-based classifier (i.e.TFBertForSequenceClassification)."
      ]
    },
    {
      "cell_type": "code",
      "execution_count": 15,
      "metadata": {
        "id": "EmJYmMbxCi14"
      },
      "outputs": [],
      "source": [
        "# map to the expected input to TFBertForSequenceClassification\n",
        "\n",
        "def map_example_to_dict(input_ids, attention_masks, token_type_ids, label):\n",
        "  return {\n",
        "      \"input_ids\": input_ids,\n",
        "      \"token_type_ids\": token_type_ids,\n",
        "      \"attention_mask\": attention_masks,\n",
        "  }, label\n",
        "\n",
        "def encode_examples(ds):\n",
        "  #prepare list, so that we can build up final TensorFlow dataset from slices.\n",
        "  input_ids_list = []\n",
        "  token_type_ids_list = []\n",
        "  attention_mask_list = []\n",
        "  label_list = []\n",
        "  for review, label in ds:\n",
        "    bert_input = convert_example_to_feature(review)\n",
        "    input_ids_list.append(bert_input['input_ids'])\n",
        "    token_type_ids_list.append(bert_input['token_type_ids'])\n",
        "    attention_mask_list.append(bert_input['attention_mask'])\n",
        "    label_list.append([label])\n",
        "\n",
        "  return tf.data.Dataset.from_tensor_slices((input_ids_list, attention_mask_list,\n",
        "                                              token_type_ids_list, label_list)).map(map_example_to_dict)\n",
        "\n"
      ]
    },
    {
      "cell_type": "code",
      "execution_count": 16,
      "metadata": {
        "id": "G-wN7ewgFXTG"
      },
      "outputs": [],
      "source": [
        "# hyper-parameters\n",
        "batch_size = 8\n"
      ]
    },
    {
      "cell_type": "code",
      "execution_count": 17,
      "metadata": {
        "colab": {
          "base_uri": "https://localhost:8080/"
        },
        "id": "QUgxomwjFeQ1",
        "outputId": "ed4edf6c-9f79-4c6d-88ae-e7c65c0803eb"
      },
      "outputs": [
        {
          "output_type": "stream",
          "name": "stderr",
          "text": [
            "Keyword arguments {'add_special_token': True, 'return_attention_mast': True} not recognized.\n",
            "Keyword arguments {'add_special_token': True, 'return_attention_mast': True} not recognized.\n",
            "Keyword arguments {'add_special_token': True, 'return_attention_mast': True} not recognized.\n",
            "Keyword arguments {'add_special_token': True, 'return_attention_mast': True} not recognized.\n",
            "Keyword arguments {'add_special_token': True, 'return_attention_mast': True} not recognized.\n",
            "Keyword arguments {'add_special_token': True, 'return_attention_mast': True} not recognized.\n",
            "Keyword arguments {'add_special_token': True, 'return_attention_mast': True} not recognized.\n",
            "Keyword arguments {'add_special_token': True, 'return_attention_mast': True} not recognized.\n",
            "Keyword arguments {'add_special_token': True, 'return_attention_mast': True} not recognized.\n",
            "Keyword arguments {'add_special_token': True, 'return_attention_mast': True} not recognized.\n",
            "Keyword arguments {'add_special_token': True, 'return_attention_mast': True} not recognized.\n",
            "Keyword arguments {'add_special_token': True, 'return_attention_mast': True} not recognized.\n",
            "Keyword arguments {'add_special_token': True, 'return_attention_mast': True} not recognized.\n",
            "Keyword arguments {'add_special_token': True, 'return_attention_mast': True} not recognized.\n",
            "Keyword arguments {'add_special_token': True, 'return_attention_mast': True} not recognized.\n",
            "Keyword arguments {'add_special_token': True, 'return_attention_mast': True} not recognized.\n",
            "Keyword arguments {'add_special_token': True, 'return_attention_mast': True} not recognized.\n",
            "Keyword arguments {'add_special_token': True, 'return_attention_mast': True} not recognized.\n",
            "Keyword arguments {'add_special_token': True, 'return_attention_mast': True} not recognized.\n",
            "Keyword arguments {'add_special_token': True, 'return_attention_mast': True} not recognized.\n",
            "Keyword arguments {'add_special_token': True, 'return_attention_mast': True} not recognized.\n",
            "Keyword arguments {'add_special_token': True, 'return_attention_mast': True} not recognized.\n",
            "Keyword arguments {'add_special_token': True, 'return_attention_mast': True} not recognized.\n",
            "Keyword arguments {'add_special_token': True, 'return_attention_mast': True} not recognized.\n",
            "Keyword arguments {'add_special_token': True, 'return_attention_mast': True} not recognized.\n",
            "Keyword arguments {'add_special_token': True, 'return_attention_mast': True} not recognized.\n",
            "Keyword arguments {'add_special_token': True, 'return_attention_mast': True} not recognized.\n",
            "Keyword arguments {'add_special_token': True, 'return_attention_mast': True} not recognized.\n",
            "Keyword arguments {'add_special_token': True, 'return_attention_mast': True} not recognized.\n",
            "Keyword arguments {'add_special_token': True, 'return_attention_mast': True} not recognized.\n",
            "Keyword arguments {'add_special_token': True, 'return_attention_mast': True} not recognized.\n",
            "Keyword arguments {'add_special_token': True, 'return_attention_mast': True} not recognized.\n",
            "Keyword arguments {'add_special_token': True, 'return_attention_mast': True} not recognized.\n",
            "Keyword arguments {'add_special_token': True, 'return_attention_mast': True} not recognized.\n",
            "Keyword arguments {'add_special_token': True, 'return_attention_mast': True} not recognized.\n",
            "Keyword arguments {'add_special_token': True, 'return_attention_mast': True} not recognized.\n",
            "Keyword arguments {'add_special_token': True, 'return_attention_mast': True} not recognized.\n",
            "Keyword arguments {'add_special_token': True, 'return_attention_mast': True} not recognized.\n",
            "Keyword arguments {'add_special_token': True, 'return_attention_mast': True} not recognized.\n",
            "Keyword arguments {'add_special_token': True, 'return_attention_mast': True} not recognized.\n",
            "Keyword arguments {'add_special_token': True, 'return_attention_mast': True} not recognized.\n",
            "Keyword arguments {'add_special_token': True, 'return_attention_mast': True} not recognized.\n",
            "Keyword arguments {'add_special_token': True, 'return_attention_mast': True} not recognized.\n",
            "Keyword arguments {'add_special_token': True, 'return_attention_mast': True} not recognized.\n",
            "Keyword arguments {'add_special_token': True, 'return_attention_mast': True} not recognized.\n",
            "Keyword arguments {'add_special_token': True, 'return_attention_mast': True} not recognized.\n",
            "Keyword arguments {'add_special_token': True, 'return_attention_mast': True} not recognized.\n",
            "Keyword arguments {'add_special_token': True, 'return_attention_mast': True} not recognized.\n",
            "Keyword arguments {'add_special_token': True, 'return_attention_mast': True} not recognized.\n",
            "Keyword arguments {'add_special_token': True, 'return_attention_mast': True} not recognized.\n",
            "Keyword arguments {'add_special_token': True, 'return_attention_mast': True} not recognized.\n",
            "Keyword arguments {'add_special_token': True, 'return_attention_mast': True} not recognized.\n",
            "Keyword arguments {'add_special_token': True, 'return_attention_mast': True} not recognized.\n",
            "Keyword arguments {'add_special_token': True, 'return_attention_mast': True} not recognized.\n",
            "Keyword arguments {'add_special_token': True, 'return_attention_mast': True} not recognized.\n",
            "Keyword arguments {'add_special_token': True, 'return_attention_mast': True} not recognized.\n",
            "Keyword arguments {'add_special_token': True, 'return_attention_mast': True} not recognized.\n",
            "Keyword arguments {'add_special_token': True, 'return_attention_mast': True} not recognized.\n",
            "Keyword arguments {'add_special_token': True, 'return_attention_mast': True} not recognized.\n",
            "Keyword arguments {'add_special_token': True, 'return_attention_mast': True} not recognized.\n",
            "Keyword arguments {'add_special_token': True, 'return_attention_mast': True} not recognized.\n",
            "Keyword arguments {'add_special_token': True, 'return_attention_mast': True} not recognized.\n",
            "Keyword arguments {'add_special_token': True, 'return_attention_mast': True} not recognized.\n",
            "Keyword arguments {'add_special_token': True, 'return_attention_mast': True} not recognized.\n",
            "Keyword arguments {'add_special_token': True, 'return_attention_mast': True} not recognized.\n",
            "Keyword arguments {'add_special_token': True, 'return_attention_mast': True} not recognized.\n",
            "Keyword arguments {'add_special_token': True, 'return_attention_mast': True} not recognized.\n",
            "Keyword arguments {'add_special_token': True, 'return_attention_mast': True} not recognized.\n",
            "Keyword arguments {'add_special_token': True, 'return_attention_mast': True} not recognized.\n",
            "Keyword arguments {'add_special_token': True, 'return_attention_mast': True} not recognized.\n",
            "Keyword arguments {'add_special_token': True, 'return_attention_mast': True} not recognized.\n",
            "Keyword arguments {'add_special_token': True, 'return_attention_mast': True} not recognized.\n",
            "Keyword arguments {'add_special_token': True, 'return_attention_mast': True} not recognized.\n",
            "Keyword arguments {'add_special_token': True, 'return_attention_mast': True} not recognized.\n",
            "Keyword arguments {'add_special_token': True, 'return_attention_mast': True} not recognized.\n",
            "Keyword arguments {'add_special_token': True, 'return_attention_mast': True} not recognized.\n",
            "Keyword arguments {'add_special_token': True, 'return_attention_mast': True} not recognized.\n",
            "Keyword arguments {'add_special_token': True, 'return_attention_mast': True} not recognized.\n",
            "Keyword arguments {'add_special_token': True, 'return_attention_mast': True} not recognized.\n",
            "Keyword arguments {'add_special_token': True, 'return_attention_mast': True} not recognized.\n",
            "Keyword arguments {'add_special_token': True, 'return_attention_mast': True} not recognized.\n",
            "Keyword arguments {'add_special_token': True, 'return_attention_mast': True} not recognized.\n",
            "Keyword arguments {'add_special_token': True, 'return_attention_mast': True} not recognized.\n",
            "Keyword arguments {'add_special_token': True, 'return_attention_mast': True} not recognized.\n",
            "Keyword arguments {'add_special_token': True, 'return_attention_mast': True} not recognized.\n",
            "Keyword arguments {'add_special_token': True, 'return_attention_mast': True} not recognized.\n",
            "Keyword arguments {'add_special_token': True, 'return_attention_mast': True} not recognized.\n",
            "Keyword arguments {'add_special_token': True, 'return_attention_mast': True} not recognized.\n",
            "Keyword arguments {'add_special_token': True, 'return_attention_mast': True} not recognized.\n",
            "Keyword arguments {'add_special_token': True, 'return_attention_mast': True} not recognized.\n",
            "Keyword arguments {'add_special_token': True, 'return_attention_mast': True} not recognized.\n",
            "Keyword arguments {'add_special_token': True, 'return_attention_mast': True} not recognized.\n",
            "Keyword arguments {'add_special_token': True, 'return_attention_mast': True} not recognized.\n",
            "Keyword arguments {'add_special_token': True, 'return_attention_mast': True} not recognized.\n",
            "Keyword arguments {'add_special_token': True, 'return_attention_mast': True} not recognized.\n",
            "Keyword arguments {'add_special_token': True, 'return_attention_mast': True} not recognized.\n",
            "Keyword arguments {'add_special_token': True, 'return_attention_mast': True} not recognized.\n",
            "Keyword arguments {'add_special_token': True, 'return_attention_mast': True} not recognized.\n",
            "Keyword arguments {'add_special_token': True, 'return_attention_mast': True} not recognized.\n",
            "Keyword arguments {'add_special_token': True, 'return_attention_mast': True} not recognized.\n",
            "Keyword arguments {'add_special_token': True, 'return_attention_mast': True} not recognized.\n",
            "Keyword arguments {'add_special_token': True, 'return_attention_mast': True} not recognized.\n",
            "Keyword arguments {'add_special_token': True, 'return_attention_mast': True} not recognized.\n",
            "Keyword arguments {'add_special_token': True, 'return_attention_mast': True} not recognized.\n",
            "Keyword arguments {'add_special_token': True, 'return_attention_mast': True} not recognized.\n",
            "Keyword arguments {'add_special_token': True, 'return_attention_mast': True} not recognized.\n",
            "Keyword arguments {'add_special_token': True, 'return_attention_mast': True} not recognized.\n",
            "Keyword arguments {'add_special_token': True, 'return_attention_mast': True} not recognized.\n",
            "Keyword arguments {'add_special_token': True, 'return_attention_mast': True} not recognized.\n",
            "Keyword arguments {'add_special_token': True, 'return_attention_mast': True} not recognized.\n",
            "Keyword arguments {'add_special_token': True, 'return_attention_mast': True} not recognized.\n",
            "Keyword arguments {'add_special_token': True, 'return_attention_mast': True} not recognized.\n",
            "Keyword arguments {'add_special_token': True, 'return_attention_mast': True} not recognized.\n",
            "Keyword arguments {'add_special_token': True, 'return_attention_mast': True} not recognized.\n",
            "Keyword arguments {'add_special_token': True, 'return_attention_mast': True} not recognized.\n",
            "Keyword arguments {'add_special_token': True, 'return_attention_mast': True} not recognized.\n",
            "Keyword arguments {'add_special_token': True, 'return_attention_mast': True} not recognized.\n",
            "Keyword arguments {'add_special_token': True, 'return_attention_mast': True} not recognized.\n",
            "Keyword arguments {'add_special_token': True, 'return_attention_mast': True} not recognized.\n",
            "Keyword arguments {'add_special_token': True, 'return_attention_mast': True} not recognized.\n",
            "Keyword arguments {'add_special_token': True, 'return_attention_mast': True} not recognized.\n",
            "Keyword arguments {'add_special_token': True, 'return_attention_mast': True} not recognized.\n",
            "Keyword arguments {'add_special_token': True, 'return_attention_mast': True} not recognized.\n",
            "Keyword arguments {'add_special_token': True, 'return_attention_mast': True} not recognized.\n",
            "Keyword arguments {'add_special_token': True, 'return_attention_mast': True} not recognized.\n",
            "Keyword arguments {'add_special_token': True, 'return_attention_mast': True} not recognized.\n",
            "Keyword arguments {'add_special_token': True, 'return_attention_mast': True} not recognized.\n",
            "Keyword arguments {'add_special_token': True, 'return_attention_mast': True} not recognized.\n",
            "Keyword arguments {'add_special_token': True, 'return_attention_mast': True} not recognized.\n",
            "Keyword arguments {'add_special_token': True, 'return_attention_mast': True} not recognized.\n",
            "Keyword arguments {'add_special_token': True, 'return_attention_mast': True} not recognized.\n",
            "Keyword arguments {'add_special_token': True, 'return_attention_mast': True} not recognized.\n",
            "Keyword arguments {'add_special_token': True, 'return_attention_mast': True} not recognized.\n",
            "Keyword arguments {'add_special_token': True, 'return_attention_mast': True} not recognized.\n",
            "Keyword arguments {'add_special_token': True, 'return_attention_mast': True} not recognized.\n",
            "Keyword arguments {'add_special_token': True, 'return_attention_mast': True} not recognized.\n",
            "Keyword arguments {'add_special_token': True, 'return_attention_mast': True} not recognized.\n",
            "Keyword arguments {'add_special_token': True, 'return_attention_mast': True} not recognized.\n",
            "Keyword arguments {'add_special_token': True, 'return_attention_mast': True} not recognized.\n",
            "Keyword arguments {'add_special_token': True, 'return_attention_mast': True} not recognized.\n",
            "Keyword arguments {'add_special_token': True, 'return_attention_mast': True} not recognized.\n",
            "Keyword arguments {'add_special_token': True, 'return_attention_mast': True} not recognized.\n",
            "Keyword arguments {'add_special_token': True, 'return_attention_mast': True} not recognized.\n",
            "Keyword arguments {'add_special_token': True, 'return_attention_mast': True} not recognized.\n",
            "Keyword arguments {'add_special_token': True, 'return_attention_mast': True} not recognized.\n",
            "Keyword arguments {'add_special_token': True, 'return_attention_mast': True} not recognized.\n",
            "Keyword arguments {'add_special_token': True, 'return_attention_mast': True} not recognized.\n",
            "Keyword arguments {'add_special_token': True, 'return_attention_mast': True} not recognized.\n",
            "Keyword arguments {'add_special_token': True, 'return_attention_mast': True} not recognized.\n",
            "Keyword arguments {'add_special_token': True, 'return_attention_mast': True} not recognized.\n",
            "Keyword arguments {'add_special_token': True, 'return_attention_mast': True} not recognized.\n",
            "Keyword arguments {'add_special_token': True, 'return_attention_mast': True} not recognized.\n",
            "Keyword arguments {'add_special_token': True, 'return_attention_mast': True} not recognized.\n",
            "Keyword arguments {'add_special_token': True, 'return_attention_mast': True} not recognized.\n",
            "Keyword arguments {'add_special_token': True, 'return_attention_mast': True} not recognized.\n",
            "Keyword arguments {'add_special_token': True, 'return_attention_mast': True} not recognized.\n",
            "Keyword arguments {'add_special_token': True, 'return_attention_mast': True} not recognized.\n",
            "Keyword arguments {'add_special_token': True, 'return_attention_mast': True} not recognized.\n",
            "Keyword arguments {'add_special_token': True, 'return_attention_mast': True} not recognized.\n",
            "Keyword arguments {'add_special_token': True, 'return_attention_mast': True} not recognized.\n",
            "Keyword arguments {'add_special_token': True, 'return_attention_mast': True} not recognized.\n",
            "Keyword arguments {'add_special_token': True, 'return_attention_mast': True} not recognized.\n",
            "Keyword arguments {'add_special_token': True, 'return_attention_mast': True} not recognized.\n",
            "Keyword arguments {'add_special_token': True, 'return_attention_mast': True} not recognized.\n",
            "Keyword arguments {'add_special_token': True, 'return_attention_mast': True} not recognized.\n",
            "Keyword arguments {'add_special_token': True, 'return_attention_mast': True} not recognized.\n",
            "Keyword arguments {'add_special_token': True, 'return_attention_mast': True} not recognized.\n",
            "Keyword arguments {'add_special_token': True, 'return_attention_mast': True} not recognized.\n",
            "Keyword arguments {'add_special_token': True, 'return_attention_mast': True} not recognized.\n",
            "Keyword arguments {'add_special_token': True, 'return_attention_mast': True} not recognized.\n",
            "Keyword arguments {'add_special_token': True, 'return_attention_mast': True} not recognized.\n",
            "Keyword arguments {'add_special_token': True, 'return_attention_mast': True} not recognized.\n",
            "Keyword arguments {'add_special_token': True, 'return_attention_mast': True} not recognized.\n",
            "Keyword arguments {'add_special_token': True, 'return_attention_mast': True} not recognized.\n",
            "Keyword arguments {'add_special_token': True, 'return_attention_mast': True} not recognized.\n",
            "Keyword arguments {'add_special_token': True, 'return_attention_mast': True} not recognized.\n",
            "Keyword arguments {'add_special_token': True, 'return_attention_mast': True} not recognized.\n",
            "Keyword arguments {'add_special_token': True, 'return_attention_mast': True} not recognized.\n",
            "Keyword arguments {'add_special_token': True, 'return_attention_mast': True} not recognized.\n",
            "Keyword arguments {'add_special_token': True, 'return_attention_mast': True} not recognized.\n",
            "Keyword arguments {'add_special_token': True, 'return_attention_mast': True} not recognized.\n",
            "Keyword arguments {'add_special_token': True, 'return_attention_mast': True} not recognized.\n",
            "Keyword arguments {'add_special_token': True, 'return_attention_mast': True} not recognized.\n",
            "Keyword arguments {'add_special_token': True, 'return_attention_mast': True} not recognized.\n",
            "Keyword arguments {'add_special_token': True, 'return_attention_mast': True} not recognized.\n",
            "Keyword arguments {'add_special_token': True, 'return_attention_mast': True} not recognized.\n",
            "Keyword arguments {'add_special_token': True, 'return_attention_mast': True} not recognized.\n",
            "Keyword arguments {'add_special_token': True, 'return_attention_mast': True} not recognized.\n",
            "Keyword arguments {'add_special_token': True, 'return_attention_mast': True} not recognized.\n",
            "Keyword arguments {'add_special_token': True, 'return_attention_mast': True} not recognized.\n",
            "Keyword arguments {'add_special_token': True, 'return_attention_mast': True} not recognized.\n",
            "Keyword arguments {'add_special_token': True, 'return_attention_mast': True} not recognized.\n",
            "Keyword arguments {'add_special_token': True, 'return_attention_mast': True} not recognized.\n",
            "Keyword arguments {'add_special_token': True, 'return_attention_mast': True} not recognized.\n",
            "Keyword arguments {'add_special_token': True, 'return_attention_mast': True} not recognized.\n",
            "Keyword arguments {'add_special_token': True, 'return_attention_mast': True} not recognized.\n",
            "Keyword arguments {'add_special_token': True, 'return_attention_mast': True} not recognized.\n",
            "Keyword arguments {'add_special_token': True, 'return_attention_mast': True} not recognized.\n",
            "Keyword arguments {'add_special_token': True, 'return_attention_mast': True} not recognized.\n",
            "Keyword arguments {'add_special_token': True, 'return_attention_mast': True} not recognized.\n",
            "Keyword arguments {'add_special_token': True, 'return_attention_mast': True} not recognized.\n",
            "Keyword arguments {'add_special_token': True, 'return_attention_mast': True} not recognized.\n",
            "Keyword arguments {'add_special_token': True, 'return_attention_mast': True} not recognized.\n",
            "Keyword arguments {'add_special_token': True, 'return_attention_mast': True} not recognized.\n",
            "Keyword arguments {'add_special_token': True, 'return_attention_mast': True} not recognized.\n",
            "Keyword arguments {'add_special_token': True, 'return_attention_mast': True} not recognized.\n",
            "Keyword arguments {'add_special_token': True, 'return_attention_mast': True} not recognized.\n",
            "Keyword arguments {'add_special_token': True, 'return_attention_mast': True} not recognized.\n",
            "Keyword arguments {'add_special_token': True, 'return_attention_mast': True} not recognized.\n",
            "Keyword arguments {'add_special_token': True, 'return_attention_mast': True} not recognized.\n",
            "Keyword arguments {'add_special_token': True, 'return_attention_mast': True} not recognized.\n",
            "Keyword arguments {'add_special_token': True, 'return_attention_mast': True} not recognized.\n",
            "Keyword arguments {'add_special_token': True, 'return_attention_mast': True} not recognized.\n",
            "Keyword arguments {'add_special_token': True, 'return_attention_mast': True} not recognized.\n",
            "Keyword arguments {'add_special_token': True, 'return_attention_mast': True} not recognized.\n",
            "Keyword arguments {'add_special_token': True, 'return_attention_mast': True} not recognized.\n",
            "Keyword arguments {'add_special_token': True, 'return_attention_mast': True} not recognized.\n",
            "Keyword arguments {'add_special_token': True, 'return_attention_mast': True} not recognized.\n",
            "Keyword arguments {'add_special_token': True, 'return_attention_mast': True} not recognized.\n",
            "Keyword arguments {'add_special_token': True, 'return_attention_mast': True} not recognized.\n",
            "Keyword arguments {'add_special_token': True, 'return_attention_mast': True} not recognized.\n",
            "Keyword arguments {'add_special_token': True, 'return_attention_mast': True} not recognized.\n",
            "Keyword arguments {'add_special_token': True, 'return_attention_mast': True} not recognized.\n",
            "Keyword arguments {'add_special_token': True, 'return_attention_mast': True} not recognized.\n",
            "Keyword arguments {'add_special_token': True, 'return_attention_mast': True} not recognized.\n",
            "Keyword arguments {'add_special_token': True, 'return_attention_mast': True} not recognized.\n",
            "Keyword arguments {'add_special_token': True, 'return_attention_mast': True} not recognized.\n",
            "Keyword arguments {'add_special_token': True, 'return_attention_mast': True} not recognized.\n",
            "Keyword arguments {'add_special_token': True, 'return_attention_mast': True} not recognized.\n",
            "Keyword arguments {'add_special_token': True, 'return_attention_mast': True} not recognized.\n",
            "Keyword arguments {'add_special_token': True, 'return_attention_mast': True} not recognized.\n",
            "Keyword arguments {'add_special_token': True, 'return_attention_mast': True} not recognized.\n",
            "Keyword arguments {'add_special_token': True, 'return_attention_mast': True} not recognized.\n",
            "Keyword arguments {'add_special_token': True, 'return_attention_mast': True} not recognized.\n",
            "Keyword arguments {'add_special_token': True, 'return_attention_mast': True} not recognized.\n",
            "Keyword arguments {'add_special_token': True, 'return_attention_mast': True} not recognized.\n",
            "Keyword arguments {'add_special_token': True, 'return_attention_mast': True} not recognized.\n",
            "Keyword arguments {'add_special_token': True, 'return_attention_mast': True} not recognized.\n",
            "Keyword arguments {'add_special_token': True, 'return_attention_mast': True} not recognized.\n",
            "Keyword arguments {'add_special_token': True, 'return_attention_mast': True} not recognized.\n",
            "Keyword arguments {'add_special_token': True, 'return_attention_mast': True} not recognized.\n",
            "Keyword arguments {'add_special_token': True, 'return_attention_mast': True} not recognized.\n",
            "Keyword arguments {'add_special_token': True, 'return_attention_mast': True} not recognized.\n",
            "Keyword arguments {'add_special_token': True, 'return_attention_mast': True} not recognized.\n",
            "Keyword arguments {'add_special_token': True, 'return_attention_mast': True} not recognized.\n",
            "Keyword arguments {'add_special_token': True, 'return_attention_mast': True} not recognized.\n",
            "Keyword arguments {'add_special_token': True, 'return_attention_mast': True} not recognized.\n",
            "Keyword arguments {'add_special_token': True, 'return_attention_mast': True} not recognized.\n",
            "Keyword arguments {'add_special_token': True, 'return_attention_mast': True} not recognized.\n",
            "Keyword arguments {'add_special_token': True, 'return_attention_mast': True} not recognized.\n",
            "Keyword arguments {'add_special_token': True, 'return_attention_mast': True} not recognized.\n",
            "Keyword arguments {'add_special_token': True, 'return_attention_mast': True} not recognized.\n",
            "Keyword arguments {'add_special_token': True, 'return_attention_mast': True} not recognized.\n",
            "Keyword arguments {'add_special_token': True, 'return_attention_mast': True} not recognized.\n",
            "Keyword arguments {'add_special_token': True, 'return_attention_mast': True} not recognized.\n",
            "Keyword arguments {'add_special_token': True, 'return_attention_mast': True} not recognized.\n",
            "Keyword arguments {'add_special_token': True, 'return_attention_mast': True} not recognized.\n",
            "Keyword arguments {'add_special_token': True, 'return_attention_mast': True} not recognized.\n",
            "Keyword arguments {'add_special_token': True, 'return_attention_mast': True} not recognized.\n",
            "Keyword arguments {'add_special_token': True, 'return_attention_mast': True} not recognized.\n",
            "Keyword arguments {'add_special_token': True, 'return_attention_mast': True} not recognized.\n",
            "Keyword arguments {'add_special_token': True, 'return_attention_mast': True} not recognized.\n",
            "Keyword arguments {'add_special_token': True, 'return_attention_mast': True} not recognized.\n",
            "Keyword arguments {'add_special_token': True, 'return_attention_mast': True} not recognized.\n",
            "Keyword arguments {'add_special_token': True, 'return_attention_mast': True} not recognized.\n",
            "Keyword arguments {'add_special_token': True, 'return_attention_mast': True} not recognized.\n",
            "Keyword arguments {'add_special_token': True, 'return_attention_mast': True} not recognized.\n",
            "Keyword arguments {'add_special_token': True, 'return_attention_mast': True} not recognized.\n",
            "Keyword arguments {'add_special_token': True, 'return_attention_mast': True} not recognized.\n",
            "Keyword arguments {'add_special_token': True, 'return_attention_mast': True} not recognized.\n",
            "Keyword arguments {'add_special_token': True, 'return_attention_mast': True} not recognized.\n",
            "Keyword arguments {'add_special_token': True, 'return_attention_mast': True} not recognized.\n",
            "Keyword arguments {'add_special_token': True, 'return_attention_mast': True} not recognized.\n",
            "Keyword arguments {'add_special_token': True, 'return_attention_mast': True} not recognized.\n",
            "Keyword arguments {'add_special_token': True, 'return_attention_mast': True} not recognized.\n",
            "Keyword arguments {'add_special_token': True, 'return_attention_mast': True} not recognized.\n",
            "Keyword arguments {'add_special_token': True, 'return_attention_mast': True} not recognized.\n",
            "Keyword arguments {'add_special_token': True, 'return_attention_mast': True} not recognized.\n",
            "Keyword arguments {'add_special_token': True, 'return_attention_mast': True} not recognized.\n",
            "Keyword arguments {'add_special_token': True, 'return_attention_mast': True} not recognized.\n",
            "Keyword arguments {'add_special_token': True, 'return_attention_mast': True} not recognized.\n",
            "Keyword arguments {'add_special_token': True, 'return_attention_mast': True} not recognized.\n",
            "Keyword arguments {'add_special_token': True, 'return_attention_mast': True} not recognized.\n",
            "Keyword arguments {'add_special_token': True, 'return_attention_mast': True} not recognized.\n",
            "Keyword arguments {'add_special_token': True, 'return_attention_mast': True} not recognized.\n",
            "Keyword arguments {'add_special_token': True, 'return_attention_mast': True} not recognized.\n",
            "Keyword arguments {'add_special_token': True, 'return_attention_mast': True} not recognized.\n",
            "Keyword arguments {'add_special_token': True, 'return_attention_mast': True} not recognized.\n",
            "Keyword arguments {'add_special_token': True, 'return_attention_mast': True} not recognized.\n",
            "Keyword arguments {'add_special_token': True, 'return_attention_mast': True} not recognized.\n",
            "Keyword arguments {'add_special_token': True, 'return_attention_mast': True} not recognized.\n",
            "Keyword arguments {'add_special_token': True, 'return_attention_mast': True} not recognized.\n",
            "Keyword arguments {'add_special_token': True, 'return_attention_mast': True} not recognized.\n",
            "Keyword arguments {'add_special_token': True, 'return_attention_mast': True} not recognized.\n",
            "Keyword arguments {'add_special_token': True, 'return_attention_mast': True} not recognized.\n",
            "Keyword arguments {'add_special_token': True, 'return_attention_mast': True} not recognized.\n",
            "Keyword arguments {'add_special_token': True, 'return_attention_mast': True} not recognized.\n",
            "Keyword arguments {'add_special_token': True, 'return_attention_mast': True} not recognized.\n",
            "Keyword arguments {'add_special_token': True, 'return_attention_mast': True} not recognized.\n",
            "Keyword arguments {'add_special_token': True, 'return_attention_mast': True} not recognized.\n",
            "Keyword arguments {'add_special_token': True, 'return_attention_mast': True} not recognized.\n",
            "Keyword arguments {'add_special_token': True, 'return_attention_mast': True} not recognized.\n",
            "Keyword arguments {'add_special_token': True, 'return_attention_mast': True} not recognized.\n",
            "Keyword arguments {'add_special_token': True, 'return_attention_mast': True} not recognized.\n",
            "Keyword arguments {'add_special_token': True, 'return_attention_mast': True} not recognized.\n",
            "Keyword arguments {'add_special_token': True, 'return_attention_mast': True} not recognized.\n",
            "Keyword arguments {'add_special_token': True, 'return_attention_mast': True} not recognized.\n",
            "Keyword arguments {'add_special_token': True, 'return_attention_mast': True} not recognized.\n",
            "Keyword arguments {'add_special_token': True, 'return_attention_mast': True} not recognized.\n",
            "Keyword arguments {'add_special_token': True, 'return_attention_mast': True} not recognized.\n",
            "Keyword arguments {'add_special_token': True, 'return_attention_mast': True} not recognized.\n",
            "Keyword arguments {'add_special_token': True, 'return_attention_mast': True} not recognized.\n",
            "Keyword arguments {'add_special_token': True, 'return_attention_mast': True} not recognized.\n",
            "Keyword arguments {'add_special_token': True, 'return_attention_mast': True} not recognized.\n",
            "Keyword arguments {'add_special_token': True, 'return_attention_mast': True} not recognized.\n",
            "Keyword arguments {'add_special_token': True, 'return_attention_mast': True} not recognized.\n",
            "Keyword arguments {'add_special_token': True, 'return_attention_mast': True} not recognized.\n",
            "Keyword arguments {'add_special_token': True, 'return_attention_mast': True} not recognized.\n",
            "Keyword arguments {'add_special_token': True, 'return_attention_mast': True} not recognized.\n",
            "Keyword arguments {'add_special_token': True, 'return_attention_mast': True} not recognized.\n",
            "Keyword arguments {'add_special_token': True, 'return_attention_mast': True} not recognized.\n",
            "Keyword arguments {'add_special_token': True, 'return_attention_mast': True} not recognized.\n",
            "Keyword arguments {'add_special_token': True, 'return_attention_mast': True} not recognized.\n",
            "Keyword arguments {'add_special_token': True, 'return_attention_mast': True} not recognized.\n",
            "Keyword arguments {'add_special_token': True, 'return_attention_mast': True} not recognized.\n",
            "Keyword arguments {'add_special_token': True, 'return_attention_mast': True} not recognized.\n",
            "Keyword arguments {'add_special_token': True, 'return_attention_mast': True} not recognized.\n",
            "Keyword arguments {'add_special_token': True, 'return_attention_mast': True} not recognized.\n",
            "Keyword arguments {'add_special_token': True, 'return_attention_mast': True} not recognized.\n",
            "Keyword arguments {'add_special_token': True, 'return_attention_mast': True} not recognized.\n",
            "Keyword arguments {'add_special_token': True, 'return_attention_mast': True} not recognized.\n",
            "Keyword arguments {'add_special_token': True, 'return_attention_mast': True} not recognized.\n",
            "Keyword arguments {'add_special_token': True, 'return_attention_mast': True} not recognized.\n",
            "Keyword arguments {'add_special_token': True, 'return_attention_mast': True} not recognized.\n",
            "Keyword arguments {'add_special_token': True, 'return_attention_mast': True} not recognized.\n",
            "Keyword arguments {'add_special_token': True, 'return_attention_mast': True} not recognized.\n",
            "Keyword arguments {'add_special_token': True, 'return_attention_mast': True} not recognized.\n",
            "Keyword arguments {'add_special_token': True, 'return_attention_mast': True} not recognized.\n",
            "Keyword arguments {'add_special_token': True, 'return_attention_mast': True} not recognized.\n",
            "Keyword arguments {'add_special_token': True, 'return_attention_mast': True} not recognized.\n",
            "Keyword arguments {'add_special_token': True, 'return_attention_mast': True} not recognized.\n",
            "Keyword arguments {'add_special_token': True, 'return_attention_mast': True} not recognized.\n",
            "Keyword arguments {'add_special_token': True, 'return_attention_mast': True} not recognized.\n",
            "Keyword arguments {'add_special_token': True, 'return_attention_mast': True} not recognized.\n",
            "Keyword arguments {'add_special_token': True, 'return_attention_mast': True} not recognized.\n",
            "Keyword arguments {'add_special_token': True, 'return_attention_mast': True} not recognized.\n",
            "Keyword arguments {'add_special_token': True, 'return_attention_mast': True} not recognized.\n",
            "Keyword arguments {'add_special_token': True, 'return_attention_mast': True} not recognized.\n",
            "Keyword arguments {'add_special_token': True, 'return_attention_mast': True} not recognized.\n",
            "Keyword arguments {'add_special_token': True, 'return_attention_mast': True} not recognized.\n",
            "Keyword arguments {'add_special_token': True, 'return_attention_mast': True} not recognized.\n",
            "Keyword arguments {'add_special_token': True, 'return_attention_mast': True} not recognized.\n",
            "Keyword arguments {'add_special_token': True, 'return_attention_mast': True} not recognized.\n",
            "Keyword arguments {'add_special_token': True, 'return_attention_mast': True} not recognized.\n",
            "Keyword arguments {'add_special_token': True, 'return_attention_mast': True} not recognized.\n",
            "Keyword arguments {'add_special_token': True, 'return_attention_mast': True} not recognized.\n",
            "Keyword arguments {'add_special_token': True, 'return_attention_mast': True} not recognized.\n",
            "Keyword arguments {'add_special_token': True, 'return_attention_mast': True} not recognized.\n",
            "Keyword arguments {'add_special_token': True, 'return_attention_mast': True} not recognized.\n",
            "Keyword arguments {'add_special_token': True, 'return_attention_mast': True} not recognized.\n",
            "Keyword arguments {'add_special_token': True, 'return_attention_mast': True} not recognized.\n",
            "Keyword arguments {'add_special_token': True, 'return_attention_mast': True} not recognized.\n",
            "Keyword arguments {'add_special_token': True, 'return_attention_mast': True} not recognized.\n",
            "Keyword arguments {'add_special_token': True, 'return_attention_mast': True} not recognized.\n",
            "Keyword arguments {'add_special_token': True, 'return_attention_mast': True} not recognized.\n",
            "Keyword arguments {'add_special_token': True, 'return_attention_mast': True} not recognized.\n",
            "Keyword arguments {'add_special_token': True, 'return_attention_mast': True} not recognized.\n",
            "Keyword arguments {'add_special_token': True, 'return_attention_mast': True} not recognized.\n",
            "Keyword arguments {'add_special_token': True, 'return_attention_mast': True} not recognized.\n",
            "Keyword arguments {'add_special_token': True, 'return_attention_mast': True} not recognized.\n",
            "Keyword arguments {'add_special_token': True, 'return_attention_mast': True} not recognized.\n",
            "Keyword arguments {'add_special_token': True, 'return_attention_mast': True} not recognized.\n",
            "Keyword arguments {'add_special_token': True, 'return_attention_mast': True} not recognized.\n",
            "Keyword arguments {'add_special_token': True, 'return_attention_mast': True} not recognized.\n",
            "Keyword arguments {'add_special_token': True, 'return_attention_mast': True} not recognized.\n",
            "Keyword arguments {'add_special_token': True, 'return_attention_mast': True} not recognized.\n",
            "Keyword arguments {'add_special_token': True, 'return_attention_mast': True} not recognized.\n",
            "Keyword arguments {'add_special_token': True, 'return_attention_mast': True} not recognized.\n",
            "Keyword arguments {'add_special_token': True, 'return_attention_mast': True} not recognized.\n",
            "Keyword arguments {'add_special_token': True, 'return_attention_mast': True} not recognized.\n",
            "Keyword arguments {'add_special_token': True, 'return_attention_mast': True} not recognized.\n",
            "Keyword arguments {'add_special_token': True, 'return_attention_mast': True} not recognized.\n",
            "Keyword arguments {'add_special_token': True, 'return_attention_mast': True} not recognized.\n",
            "Keyword arguments {'add_special_token': True, 'return_attention_mast': True} not recognized.\n",
            "Keyword arguments {'add_special_token': True, 'return_attention_mast': True} not recognized.\n",
            "Keyword arguments {'add_special_token': True, 'return_attention_mast': True} not recognized.\n",
            "Keyword arguments {'add_special_token': True, 'return_attention_mast': True} not recognized.\n",
            "Keyword arguments {'add_special_token': True, 'return_attention_mast': True} not recognized.\n",
            "Keyword arguments {'add_special_token': True, 'return_attention_mast': True} not recognized.\n",
            "Keyword arguments {'add_special_token': True, 'return_attention_mast': True} not recognized.\n",
            "Keyword arguments {'add_special_token': True, 'return_attention_mast': True} not recognized.\n",
            "Keyword arguments {'add_special_token': True, 'return_attention_mast': True} not recognized.\n",
            "Keyword arguments {'add_special_token': True, 'return_attention_mast': True} not recognized.\n",
            "Keyword arguments {'add_special_token': True, 'return_attention_mast': True} not recognized.\n",
            "Keyword arguments {'add_special_token': True, 'return_attention_mast': True} not recognized.\n",
            "Keyword arguments {'add_special_token': True, 'return_attention_mast': True} not recognized.\n",
            "Keyword arguments {'add_special_token': True, 'return_attention_mast': True} not recognized.\n",
            "Keyword arguments {'add_special_token': True, 'return_attention_mast': True} not recognized.\n",
            "Keyword arguments {'add_special_token': True, 'return_attention_mast': True} not recognized.\n",
            "Keyword arguments {'add_special_token': True, 'return_attention_mast': True} not recognized.\n",
            "Keyword arguments {'add_special_token': True, 'return_attention_mast': True} not recognized.\n",
            "Keyword arguments {'add_special_token': True, 'return_attention_mast': True} not recognized.\n",
            "Keyword arguments {'add_special_token': True, 'return_attention_mast': True} not recognized.\n",
            "Keyword arguments {'add_special_token': True, 'return_attention_mast': True} not recognized.\n",
            "Keyword arguments {'add_special_token': True, 'return_attention_mast': True} not recognized.\n",
            "Keyword arguments {'add_special_token': True, 'return_attention_mast': True} not recognized.\n",
            "Keyword arguments {'add_special_token': True, 'return_attention_mast': True} not recognized.\n",
            "Keyword arguments {'add_special_token': True, 'return_attention_mast': True} not recognized.\n",
            "Keyword arguments {'add_special_token': True, 'return_attention_mast': True} not recognized.\n",
            "Keyword arguments {'add_special_token': True, 'return_attention_mast': True} not recognized.\n",
            "Keyword arguments {'add_special_token': True, 'return_attention_mast': True} not recognized.\n",
            "Keyword arguments {'add_special_token': True, 'return_attention_mast': True} not recognized.\n",
            "Keyword arguments {'add_special_token': True, 'return_attention_mast': True} not recognized.\n",
            "Keyword arguments {'add_special_token': True, 'return_attention_mast': True} not recognized.\n",
            "Keyword arguments {'add_special_token': True, 'return_attention_mast': True} not recognized.\n",
            "Keyword arguments {'add_special_token': True, 'return_attention_mast': True} not recognized.\n",
            "Keyword arguments {'add_special_token': True, 'return_attention_mast': True} not recognized.\n",
            "Keyword arguments {'add_special_token': True, 'return_attention_mast': True} not recognized.\n",
            "Keyword arguments {'add_special_token': True, 'return_attention_mast': True} not recognized.\n",
            "Keyword arguments {'add_special_token': True, 'return_attention_mast': True} not recognized.\n",
            "Keyword arguments {'add_special_token': True, 'return_attention_mast': True} not recognized.\n",
            "Keyword arguments {'add_special_token': True, 'return_attention_mast': True} not recognized.\n",
            "Keyword arguments {'add_special_token': True, 'return_attention_mast': True} not recognized.\n",
            "Keyword arguments {'add_special_token': True, 'return_attention_mast': True} not recognized.\n",
            "Keyword arguments {'add_special_token': True, 'return_attention_mast': True} not recognized.\n",
            "Keyword arguments {'add_special_token': True, 'return_attention_mast': True} not recognized.\n",
            "Keyword arguments {'add_special_token': True, 'return_attention_mast': True} not recognized.\n",
            "Keyword arguments {'add_special_token': True, 'return_attention_mast': True} not recognized.\n",
            "Keyword arguments {'add_special_token': True, 'return_attention_mast': True} not recognized.\n",
            "Keyword arguments {'add_special_token': True, 'return_attention_mast': True} not recognized.\n",
            "Keyword arguments {'add_special_token': True, 'return_attention_mast': True} not recognized.\n",
            "Keyword arguments {'add_special_token': True, 'return_attention_mast': True} not recognized.\n",
            "Keyword arguments {'add_special_token': True, 'return_attention_mast': True} not recognized.\n",
            "Keyword arguments {'add_special_token': True, 'return_attention_mast': True} not recognized.\n",
            "Keyword arguments {'add_special_token': True, 'return_attention_mast': True} not recognized.\n",
            "Keyword arguments {'add_special_token': True, 'return_attention_mast': True} not recognized.\n",
            "Keyword arguments {'add_special_token': True, 'return_attention_mast': True} not recognized.\n",
            "Keyword arguments {'add_special_token': True, 'return_attention_mast': True} not recognized.\n",
            "Keyword arguments {'add_special_token': True, 'return_attention_mast': True} not recognized.\n",
            "Keyword arguments {'add_special_token': True, 'return_attention_mast': True} not recognized.\n",
            "Keyword arguments {'add_special_token': True, 'return_attention_mast': True} not recognized.\n",
            "Keyword arguments {'add_special_token': True, 'return_attention_mast': True} not recognized.\n",
            "Keyword arguments {'add_special_token': True, 'return_attention_mast': True} not recognized.\n",
            "Keyword arguments {'add_special_token': True, 'return_attention_mast': True} not recognized.\n",
            "Keyword arguments {'add_special_token': True, 'return_attention_mast': True} not recognized.\n",
            "Keyword arguments {'add_special_token': True, 'return_attention_mast': True} not recognized.\n",
            "Keyword arguments {'add_special_token': True, 'return_attention_mast': True} not recognized.\n",
            "Keyword arguments {'add_special_token': True, 'return_attention_mast': True} not recognized.\n",
            "Keyword arguments {'add_special_token': True, 'return_attention_mast': True} not recognized.\n",
            "Keyword arguments {'add_special_token': True, 'return_attention_mast': True} not recognized.\n",
            "Keyword arguments {'add_special_token': True, 'return_attention_mast': True} not recognized.\n",
            "Keyword arguments {'add_special_token': True, 'return_attention_mast': True} not recognized.\n",
            "Keyword arguments {'add_special_token': True, 'return_attention_mast': True} not recognized.\n",
            "Keyword arguments {'add_special_token': True, 'return_attention_mast': True} not recognized.\n",
            "Keyword arguments {'add_special_token': True, 'return_attention_mast': True} not recognized.\n",
            "Keyword arguments {'add_special_token': True, 'return_attention_mast': True} not recognized.\n",
            "Keyword arguments {'add_special_token': True, 'return_attention_mast': True} not recognized.\n",
            "Keyword arguments {'add_special_token': True, 'return_attention_mast': True} not recognized.\n",
            "Keyword arguments {'add_special_token': True, 'return_attention_mast': True} not recognized.\n",
            "Keyword arguments {'add_special_token': True, 'return_attention_mast': True} not recognized.\n",
            "Keyword arguments {'add_special_token': True, 'return_attention_mast': True} not recognized.\n",
            "Keyword arguments {'add_special_token': True, 'return_attention_mast': True} not recognized.\n",
            "Keyword arguments {'add_special_token': True, 'return_attention_mast': True} not recognized.\n",
            "Keyword arguments {'add_special_token': True, 'return_attention_mast': True} not recognized.\n",
            "Keyword arguments {'add_special_token': True, 'return_attention_mast': True} not recognized.\n",
            "Keyword arguments {'add_special_token': True, 'return_attention_mast': True} not recognized.\n",
            "Keyword arguments {'add_special_token': True, 'return_attention_mast': True} not recognized.\n",
            "Keyword arguments {'add_special_token': True, 'return_attention_mast': True} not recognized.\n",
            "Keyword arguments {'add_special_token': True, 'return_attention_mast': True} not recognized.\n",
            "Keyword arguments {'add_special_token': True, 'return_attention_mast': True} not recognized.\n",
            "Keyword arguments {'add_special_token': True, 'return_attention_mast': True} not recognized.\n",
            "Keyword arguments {'add_special_token': True, 'return_attention_mast': True} not recognized.\n",
            "Keyword arguments {'add_special_token': True, 'return_attention_mast': True} not recognized.\n",
            "Keyword arguments {'add_special_token': True, 'return_attention_mast': True} not recognized.\n",
            "Keyword arguments {'add_special_token': True, 'return_attention_mast': True} not recognized.\n",
            "Keyword arguments {'add_special_token': True, 'return_attention_mast': True} not recognized.\n",
            "Keyword arguments {'add_special_token': True, 'return_attention_mast': True} not recognized.\n",
            "Keyword arguments {'add_special_token': True, 'return_attention_mast': True} not recognized.\n",
            "Keyword arguments {'add_special_token': True, 'return_attention_mast': True} not recognized.\n",
            "Keyword arguments {'add_special_token': True, 'return_attention_mast': True} not recognized.\n",
            "Keyword arguments {'add_special_token': True, 'return_attention_mast': True} not recognized.\n",
            "Keyword arguments {'add_special_token': True, 'return_attention_mast': True} not recognized.\n",
            "Keyword arguments {'add_special_token': True, 'return_attention_mast': True} not recognized.\n",
            "Keyword arguments {'add_special_token': True, 'return_attention_mast': True} not recognized.\n",
            "Keyword arguments {'add_special_token': True, 'return_attention_mast': True} not recognized.\n",
            "Keyword arguments {'add_special_token': True, 'return_attention_mast': True} not recognized.\n",
            "Keyword arguments {'add_special_token': True, 'return_attention_mast': True} not recognized.\n",
            "Keyword arguments {'add_special_token': True, 'return_attention_mast': True} not recognized.\n",
            "Keyword arguments {'add_special_token': True, 'return_attention_mast': True} not recognized.\n",
            "Keyword arguments {'add_special_token': True, 'return_attention_mast': True} not recognized.\n",
            "Keyword arguments {'add_special_token': True, 'return_attention_mast': True} not recognized.\n",
            "Keyword arguments {'add_special_token': True, 'return_attention_mast': True} not recognized.\n",
            "Keyword arguments {'add_special_token': True, 'return_attention_mast': True} not recognized.\n",
            "Keyword arguments {'add_special_token': True, 'return_attention_mast': True} not recognized.\n",
            "Keyword arguments {'add_special_token': True, 'return_attention_mast': True} not recognized.\n",
            "Keyword arguments {'add_special_token': True, 'return_attention_mast': True} not recognized.\n",
            "Keyword arguments {'add_special_token': True, 'return_attention_mast': True} not recognized.\n",
            "Keyword arguments {'add_special_token': True, 'return_attention_mast': True} not recognized.\n",
            "Keyword arguments {'add_special_token': True, 'return_attention_mast': True} not recognized.\n",
            "Keyword arguments {'add_special_token': True, 'return_attention_mast': True} not recognized.\n",
            "Keyword arguments {'add_special_token': True, 'return_attention_mast': True} not recognized.\n",
            "Keyword arguments {'add_special_token': True, 'return_attention_mast': True} not recognized.\n",
            "Keyword arguments {'add_special_token': True, 'return_attention_mast': True} not recognized.\n",
            "Keyword arguments {'add_special_token': True, 'return_attention_mast': True} not recognized.\n",
            "Keyword arguments {'add_special_token': True, 'return_attention_mast': True} not recognized.\n",
            "Keyword arguments {'add_special_token': True, 'return_attention_mast': True} not recognized.\n",
            "Keyword arguments {'add_special_token': True, 'return_attention_mast': True} not recognized.\n",
            "Keyword arguments {'add_special_token': True, 'return_attention_mast': True} not recognized.\n",
            "Keyword arguments {'add_special_token': True, 'return_attention_mast': True} not recognized.\n",
            "Keyword arguments {'add_special_token': True, 'return_attention_mast': True} not recognized.\n",
            "Keyword arguments {'add_special_token': True, 'return_attention_mast': True} not recognized.\n",
            "Keyword arguments {'add_special_token': True, 'return_attention_mast': True} not recognized.\n",
            "Keyword arguments {'add_special_token': True, 'return_attention_mast': True} not recognized.\n",
            "Keyword arguments {'add_special_token': True, 'return_attention_mast': True} not recognized.\n",
            "Keyword arguments {'add_special_token': True, 'return_attention_mast': True} not recognized.\n",
            "Keyword arguments {'add_special_token': True, 'return_attention_mast': True} not recognized.\n",
            "Keyword arguments {'add_special_token': True, 'return_attention_mast': True} not recognized.\n",
            "Keyword arguments {'add_special_token': True, 'return_attention_mast': True} not recognized.\n",
            "Keyword arguments {'add_special_token': True, 'return_attention_mast': True} not recognized.\n",
            "Keyword arguments {'add_special_token': True, 'return_attention_mast': True} not recognized.\n",
            "Keyword arguments {'add_special_token': True, 'return_attention_mast': True} not recognized.\n",
            "Keyword arguments {'add_special_token': True, 'return_attention_mast': True} not recognized.\n",
            "Keyword arguments {'add_special_token': True, 'return_attention_mast': True} not recognized.\n",
            "Keyword arguments {'add_special_token': True, 'return_attention_mast': True} not recognized.\n",
            "Keyword arguments {'add_special_token': True, 'return_attention_mast': True} not recognized.\n",
            "Keyword arguments {'add_special_token': True, 'return_attention_mast': True} not recognized.\n",
            "Keyword arguments {'add_special_token': True, 'return_attention_mast': True} not recognized.\n",
            "Keyword arguments {'add_special_token': True, 'return_attention_mast': True} not recognized.\n",
            "Keyword arguments {'add_special_token': True, 'return_attention_mast': True} not recognized.\n",
            "Keyword arguments {'add_special_token': True, 'return_attention_mast': True} not recognized.\n",
            "Keyword arguments {'add_special_token': True, 'return_attention_mast': True} not recognized.\n",
            "Keyword arguments {'add_special_token': True, 'return_attention_mast': True} not recognized.\n",
            "Keyword arguments {'add_special_token': True, 'return_attention_mast': True} not recognized.\n",
            "Keyword arguments {'add_special_token': True, 'return_attention_mast': True} not recognized.\n",
            "Keyword arguments {'add_special_token': True, 'return_attention_mast': True} not recognized.\n",
            "Keyword arguments {'add_special_token': True, 'return_attention_mast': True} not recognized.\n",
            "Keyword arguments {'add_special_token': True, 'return_attention_mast': True} not recognized.\n",
            "Keyword arguments {'add_special_token': True, 'return_attention_mast': True} not recognized.\n",
            "Keyword arguments {'add_special_token': True, 'return_attention_mast': True} not recognized.\n",
            "Keyword arguments {'add_special_token': True, 'return_attention_mast': True} not recognized.\n",
            "Keyword arguments {'add_special_token': True, 'return_attention_mast': True} not recognized.\n",
            "Keyword arguments {'add_special_token': True, 'return_attention_mast': True} not recognized.\n",
            "Keyword arguments {'add_special_token': True, 'return_attention_mast': True} not recognized.\n",
            "Keyword arguments {'add_special_token': True, 'return_attention_mast': True} not recognized.\n",
            "Keyword arguments {'add_special_token': True, 'return_attention_mast': True} not recognized.\n",
            "Keyword arguments {'add_special_token': True, 'return_attention_mast': True} not recognized.\n",
            "Keyword arguments {'add_special_token': True, 'return_attention_mast': True} not recognized.\n",
            "Keyword arguments {'add_special_token': True, 'return_attention_mast': True} not recognized.\n",
            "Keyword arguments {'add_special_token': True, 'return_attention_mast': True} not recognized.\n",
            "Keyword arguments {'add_special_token': True, 'return_attention_mast': True} not recognized.\n",
            "Keyword arguments {'add_special_token': True, 'return_attention_mast': True} not recognized.\n",
            "Keyword arguments {'add_special_token': True, 'return_attention_mast': True} not recognized.\n",
            "Keyword arguments {'add_special_token': True, 'return_attention_mast': True} not recognized.\n",
            "Keyword arguments {'add_special_token': True, 'return_attention_mast': True} not recognized.\n",
            "Keyword arguments {'add_special_token': True, 'return_attention_mast': True} not recognized.\n",
            "Keyword arguments {'add_special_token': True, 'return_attention_mast': True} not recognized.\n",
            "Keyword arguments {'add_special_token': True, 'return_attention_mast': True} not recognized.\n",
            "Keyword arguments {'add_special_token': True, 'return_attention_mast': True} not recognized.\n",
            "Keyword arguments {'add_special_token': True, 'return_attention_mast': True} not recognized.\n",
            "Keyword arguments {'add_special_token': True, 'return_attention_mast': True} not recognized.\n",
            "Keyword arguments {'add_special_token': True, 'return_attention_mast': True} not recognized.\n",
            "Keyword arguments {'add_special_token': True, 'return_attention_mast': True} not recognized.\n",
            "Keyword arguments {'add_special_token': True, 'return_attention_mast': True} not recognized.\n",
            "Keyword arguments {'add_special_token': True, 'return_attention_mast': True} not recognized.\n",
            "Keyword arguments {'add_special_token': True, 'return_attention_mast': True} not recognized.\n",
            "Keyword arguments {'add_special_token': True, 'return_attention_mast': True} not recognized.\n",
            "Keyword arguments {'add_special_token': True, 'return_attention_mast': True} not recognized.\n",
            "Keyword arguments {'add_special_token': True, 'return_attention_mast': True} not recognized.\n",
            "Keyword arguments {'add_special_token': True, 'return_attention_mast': True} not recognized.\n",
            "Keyword arguments {'add_special_token': True, 'return_attention_mast': True} not recognized.\n",
            "Keyword arguments {'add_special_token': True, 'return_attention_mast': True} not recognized.\n",
            "Keyword arguments {'add_special_token': True, 'return_attention_mast': True} not recognized.\n",
            "Keyword arguments {'add_special_token': True, 'return_attention_mast': True} not recognized.\n",
            "Keyword arguments {'add_special_token': True, 'return_attention_mast': True} not recognized.\n",
            "Keyword arguments {'add_special_token': True, 'return_attention_mast': True} not recognized.\n",
            "Keyword arguments {'add_special_token': True, 'return_attention_mast': True} not recognized.\n",
            "Keyword arguments {'add_special_token': True, 'return_attention_mast': True} not recognized.\n",
            "Keyword arguments {'add_special_token': True, 'return_attention_mast': True} not recognized.\n",
            "Keyword arguments {'add_special_token': True, 'return_attention_mast': True} not recognized.\n",
            "Keyword arguments {'add_special_token': True, 'return_attention_mast': True} not recognized.\n",
            "Keyword arguments {'add_special_token': True, 'return_attention_mast': True} not recognized.\n",
            "Keyword arguments {'add_special_token': True, 'return_attention_mast': True} not recognized.\n",
            "Keyword arguments {'add_special_token': True, 'return_attention_mast': True} not recognized.\n",
            "Keyword arguments {'add_special_token': True, 'return_attention_mast': True} not recognized.\n",
            "Keyword arguments {'add_special_token': True, 'return_attention_mast': True} not recognized.\n",
            "Keyword arguments {'add_special_token': True, 'return_attention_mast': True} not recognized.\n",
            "Keyword arguments {'add_special_token': True, 'return_attention_mast': True} not recognized.\n",
            "Keyword arguments {'add_special_token': True, 'return_attention_mast': True} not recognized.\n",
            "Keyword arguments {'add_special_token': True, 'return_attention_mast': True} not recognized.\n",
            "Keyword arguments {'add_special_token': True, 'return_attention_mast': True} not recognized.\n",
            "Keyword arguments {'add_special_token': True, 'return_attention_mast': True} not recognized.\n",
            "Keyword arguments {'add_special_token': True, 'return_attention_mast': True} not recognized.\n",
            "Keyword arguments {'add_special_token': True, 'return_attention_mast': True} not recognized.\n",
            "Keyword arguments {'add_special_token': True, 'return_attention_mast': True} not recognized.\n",
            "Keyword arguments {'add_special_token': True, 'return_attention_mast': True} not recognized.\n",
            "Keyword arguments {'add_special_token': True, 'return_attention_mast': True} not recognized.\n",
            "Keyword arguments {'add_special_token': True, 'return_attention_mast': True} not recognized.\n",
            "Keyword arguments {'add_special_token': True, 'return_attention_mast': True} not recognized.\n",
            "Keyword arguments {'add_special_token': True, 'return_attention_mast': True} not recognized.\n",
            "Keyword arguments {'add_special_token': True, 'return_attention_mast': True} not recognized.\n"
          ]
        }
      ],
      "source": [
        "#train dataset\n",
        "\n",
        "ds_train = zip(X_train_text, y_train)\n",
        "ds_test = zip(X_test_text, y_test)\n",
        "ds_train_encoded = encode_examples(ds_train).shuffle(len(X_train_text)).batch(batch_size)\n",
        "ds_test_encoded = encode_examples(ds_test).batch(batch_size)"
      ]
    },
    {
      "cell_type": "code",
      "execution_count": 18,
      "metadata": {
        "colab": {
          "base_uri": "https://localhost:8080/"
        },
        "id": "Y1iwg_WpGE3a",
        "outputId": "698b8d18-68f6-4199-b626-a39da113fd05"
      },
      "outputs": [
        {
          "output_type": "execute_result",
          "data": {
            "text/plain": [
              "<_BatchDataset element_spec=({'input_ids': TensorSpec(shape=(None, 256), dtype=tf.int32, name=None), 'token_type_ids': TensorSpec(shape=(None, 256), dtype=tf.int32, name=None), 'attention_mask': TensorSpec(shape=(None, 256), dtype=tf.int32, name=None)}, TensorSpec(shape=(None, 1), dtype=tf.int32, name=None))>"
            ]
          },
          "metadata": {},
          "execution_count": 18
        }
      ],
      "source": [
        "ds_train_encoded"
      ]
    },
    {
      "cell_type": "markdown",
      "metadata": {
        "id": "a4IuWNAQOcSA"
      },
      "source": [
        "## Model Setup\n",
        "transformers provides a BERT-based document classifier for fine-tuning, i.e., `TFBertForSequenceClassification`"
      ]
    },
    {
      "cell_type": "code",
      "execution_count": 19,
      "metadata": {
        "colab": {
          "base_uri": "https://localhost:8080/"
        },
        "id": "gydX-nR0HIm6",
        "outputId": "d60d10b1-0b9a-427d-b465-547696d26daa"
      },
      "outputs": [
        {
          "output_type": "stream",
          "name": "stderr",
          "text": [
            "All PyTorch model weights were used when initializing TFBertForSequenceClassification.\n",
            "\n",
            "Some weights or buffers of the TF 2.0 model TFBertForSequenceClassification were not initialized from the PyTorch model and are newly initialized: ['classifier.weight', 'classifier.bias']\n",
            "You should probably TRAIN this model on a down-stream task to be able to use it for predictions and inference.\n"
          ]
        },
        {
          "output_type": "stream",
          "name": "stdout",
          "text": [
            "Model: \"tf_bert_for_sequence_classification\"\n",
            "_________________________________________________________________\n",
            " Layer (type)                Output Shape              Param #   \n",
            "=================================================================\n",
            " bert (TFBertMainLayer)      multiple                  109482240 \n",
            "                                                                 \n",
            " dropout_37 (Dropout)        multiple                  0         \n",
            "                                                                 \n",
            " classifier (Dense)          multiple                  1538      \n",
            "                                                                 \n",
            "=================================================================\n",
            "Total params: 109,483,778\n",
            "Trainable params: 109,483,778\n",
            "Non-trainable params: 0\n",
            "_________________________________________________________________\n"
          ]
        }
      ],
      "source": [
        "## Initialize pre-built BERT-based classifier from transformers\n",
        "bert_model = TFBertForSequenceClassification.from_pretrained(\n",
        "    'bert-base-uncased', num_labels=num_classes)\n",
        "\n",
        "bert_model.summary()"
      ]
    },
    {
      "cell_type": "code",
      "execution_count": 20,
      "metadata": {
        "id": "eeuOGQlZOhgf"
      },
      "outputs": [],
      "source": [
        "# recommended learning rate for Adam 5e-5, 3e-5, 2e-5\n",
        "learning_rate = 2e-5\n",
        "#multiple epochs might be better as long as we will not overfit the model\n",
        "number_of_epochs=2\n",
        "\n",
        "#choosing Adam optimizer\n",
        "optimizer = tf.keras.optimizers.Adam(learning_rate=learning_rate, epsilon=1e-08)\n",
        "#we do not have one-hot vectors, we can sparce categorical cross entropy and accuracy\n",
        "loss = tf.keras.losses.SparseCategoricalCrossentropy(from_logits=True)\n",
        "metric = tf.keras.metrics.SparseCategoricalAccuracy('accuracy')\n",
        "\n",
        "bert_model.compile(loss=loss,\n",
        "                   optimizer=optimizer,\n",
        "                   metrics= metric)\n",
        "\n"
      ]
    },
    {
      "cell_type": "markdown",
      "metadata": {
        "id": "FXi8Nvb6QGMw"
      },
      "source": [
        "The BERT paper suggests a few heuristics for fine-tuning:\n",
        "\n",
        "* Batch Size: 16 or 32\n",
        "* Epochs: 2 to 4\n",
        "* Learning Rates for Adam: 5e-5, 3e-5,, or 2e-5."
      ]
    },
    {
      "cell_type": "markdown",
      "metadata": {
        "id": "WFGxVALmQKhu"
      },
      "source": [
        "## Model Training\n",
        "\n",
        "* The BERT Classifier requires two inputs: the input_ids and the attention_mask (from BertTokenizer.encode_plus().\n",
        "* The output should be the one-hot encoded labels."
      ]
    },
    {
      "cell_type": "code",
      "execution_count": 21,
      "metadata": {
        "colab": {
          "base_uri": "https://localhost:8080/"
        },
        "id": "55y2SRQPQBug",
        "outputId": "a9fb62c5-5f7c-4e37-b086-85307843db6d"
      },
      "outputs": [
        {
          "output_type": "stream",
          "name": "stdout",
          "text": [
            "Epoch 1/2\n",
            "63/63 [==============================] - 2126s 33s/step - loss: 0.6801 - accuracy: 0.5720 - val_loss: 0.6734 - val_accuracy: 0.5200\n",
            "Epoch 2/2\n",
            "63/63 [==============================] - 2076s 33s/step - loss: 0.6271 - accuracy: 0.6580 - val_loss: 0.6266 - val_accuracy: 0.6400\n"
          ]
        }
      ],
      "source": [
        "history = bert_model.fit(ds_train_encoded,\n",
        "                         batch_size= batch_size,\n",
        "                         epochs= number_of_epochs,\n",
        "                         validation_data=ds_test_encoded)"
      ]
    },
    {
      "cell_type": "code",
      "execution_count": 22,
      "metadata": {
        "id": "pXBI6ScaQe1Q"
      },
      "outputs": [],
      "source": [
        "import matplotlib.pyplot as plt\n",
        "import matplotlib\n",
        "\n",
        "matplotlib.rcParams['figure.dpi'] = 150\n",
        "\n",
        "\n",
        "# Plotting results\n",
        "def plot1(history):\n",
        "    acc = history.history['accuracy']\n",
        "    val_acc = history.history['val_accuracy']\n",
        "    loss = history.history['loss']\n",
        "    val_loss = history.history['val_loss']\n",
        "\n",
        "    epochs = range(1, len(acc) + 1)\n",
        "    ## Accuracy plot\n",
        "    plt.plot(epochs, acc, 'bo', label='Training acc')\n",
        "    plt.plot(epochs, val_acc, 'b', label='Validation acc')\n",
        "    plt.title('Training and validation accuracy')\n",
        "    plt.legend()\n",
        "    ## Loss plot\n",
        "    plt.figure()\n",
        "\n",
        "    plt.plot(epochs, loss, 'bo', label='Training loss')\n",
        "    plt.plot(epochs, val_loss, 'b', label='Validation loss')\n",
        "    plt.title('Training and validation loss')\n",
        "    plt.legend()\n",
        "    plt.show()\n",
        "\n",
        "\n",
        "def plot2(history):\n",
        "    pd.DataFrame(history.history).plot(figsize=(8, 5))\n",
        "    plt.grid(True)\n",
        "    #plt.gca().set_ylim(0,1)\n",
        "    plt.show()"
      ]
    },
    {
      "cell_type": "code",
      "execution_count": 23,
      "metadata": {
        "id": "CHTJOZf4RBsO",
        "colab": {
          "base_uri": "https://localhost:8080/",
          "height": 659
        },
        "outputId": "54a7b48e-7fd4-4429-ab48-2b1d3321d15e"
      },
      "outputs": [
        {
          "output_type": "display_data",
          "data": {
            "text/plain": [
              "<Figure size 1200x750 with 1 Axes>"
            ],
            "image/png": "[encoded data removed]"
          },
          "metadata": {}
        }
      ],
      "source": [
        "plot2(history)"
      ]
    },
    {
      "cell_type": "markdown",
      "metadata": {
        "id": "NXjpHUIOREYr"
      },
      "source": [
        "## Model Evaluation"
      ]
    },
    {
      "cell_type": "code",
      "execution_count": 24,
      "metadata": {
        "id": "sFSbeOS4RDKB",
        "colab": {
          "base_uri": "https://localhost:8080/"
        },
        "outputId": "18713342-a4cf-47b2-fcc3-b957b956f794"
      },
      "outputs": [
        {
          "output_type": "stream",
          "name": "stdout",
          "text": [
            "13/13 [==============================] - 112s 9s/step - loss: 0.6266 - accuracy: 0.6400\n"
          ]
        },
        {
          "output_type": "execute_result",
          "data": {
            "text/plain": [
              "[0.6266316175460815, 0.6399999856948853]"
            ]
          },
          "metadata": {},
          "execution_count": 24
        }
      ],
      "source": [
        "bert_model.evaluate(ds_test_encoded, batch_size=batch_size)"
      ]
    },
    {
      "cell_type": "code",
      "execution_count": null,
      "metadata": {
        "id": "jRSyZHTTRO_t"
      },
      "outputs": [],
      "source": [
        "y_test_pred = bert_model.predict(ds_test_encoded, batch_size=batch_size)"
      ]
    },
    {
      "cell_type": "code",
      "execution_count": null,
      "metadata": {
        "id": "hK80pRhlRWtT"
      },
      "outputs": [],
      "source": [
        "y_test_pred_class = y_test_pred[0].argmax(axis=1)"
      ]
    },
    {
      "cell_type": "code",
      "execution_count": 33,
      "metadata": {
        "id": "LCtwuH4ERcaj",
        "colab": {
          "base_uri": "https://localhost:8080/"
        },
        "outputId": "7dcb5ccc-c5fc-4eab-d3b2-1969bbc31119"
      },
      "outputs": [
        {
          "output_type": "stream",
          "name": "stdout",
          "text": [
            "[0 0 0 0 0 0 0 1 1 0]\n",
            "[0 1 0 0 0 0 1 1 1 1]\n"
          ]
        }
      ],
      "source": [
        "print(y_test_pred_class[:10])\n",
        "print(y_test[:10])"
      ]
    },
    {
      "cell_type": "code",
      "source": [
        "sklearn.metrics.confusion_matrix(y_test,\n",
        "                                      y_test_pred_class,\n",
        "                                      normalize=None)"
      ],
      "metadata": {
        "id": "TejQQOY6cIgX",
        "outputId": "4ee3635e-7f74-4d24-84cb-22321d65082e",
        "colab": {
          "base_uri": "https://localhost:8080/"
        }
      },
      "execution_count": 32,
      "outputs": [
        {
          "output_type": "execute_result",
          "data": {
            "text/plain": [
              "array([[46,  2],\n",
              "       [34, 18]])"
            ]
          },
          "metadata": {},
          "execution_count": 32
        }
      ]
    }
  ],
  "metadata": {
    "accelerator": "TPU",
    "colab": {
      "provenance": [],
      "authorship_tag": "ABX9TyPd1WeqjsMpxGedYQFOP0dk",
      "include_colab_link": true
    },
    "kernelspec": {
      "display_name": "Python 3",
      "name": "python3"
    },
    "language_info": {
      "name": "python"
    }
  },
  "nbformat": 4,
  "nbformat_minor": 0
}