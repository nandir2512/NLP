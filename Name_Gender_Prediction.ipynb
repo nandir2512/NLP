{
  "nbformat": 4,
  "nbformat_minor": 0,
  "metadata": {
    "colab": {
      "provenance": [],
      "authorship_tag": "ABX9TyPL5H/BWRCta7e4wyJhM8y3",
      "include_colab_link": true
    },
    "kernelspec": {
      "name": "python3",
      "display_name": "Python 3"
    },
    "language_info": {
      "name": "python"
    }
  },
  "cells": [
    {
      "cell_type": "markdown",
      "metadata": {
        "id": "view-in-github",
        "colab_type": "text"
      },
      "source": [
        "<a href=\"https://colab.research.google.com/github/nandir2512/NLP/blob/main/Name_Gender_Prediction.ipynb\" target=\"_parent\"><img src=\"https://colab.research.google.com/assets/colab-badge.svg\" alt=\"Open In Colab\"/></a>"
      ]
    },
    {
      "cell_type": "markdown",
      "source": [
        "# **Name Gender Prediction**\n",
        "\n",
        "Let’s assume that we have collected a list of personal names and we have their corresponding gender labels, i.e., whether the name is a male or female one.\n",
        "\n",
        "The goal of this example is to create a classifier that would automatically classify a given name into either male or female.\n",
        "\n",
        "# Prepare Data\n",
        "* We use the data provided in NLTK. Please download the corpus data if necessary.\n",
        "\n",
        "* We load the corpus, nltk.corpus.names and randomize it before we proceed."
      ],
      "metadata": {
        "id": "J9YFzr4e-nDr"
      }
    },
    {
      "cell_type": "code",
      "execution_count": 1,
      "metadata": {
        "colab": {
          "base_uri": "https://localhost:8080/"
        },
        "id": "NhWeDepM7qWJ",
        "outputId": "cd85cb3c-4e51-42e7-f54f-fcee89c76caa"
      },
      "outputs": [
        {
          "output_type": "stream",
          "name": "stderr",
          "text": [
            "[nltk_data] Downloading package names to /root/nltk_data...\n",
            "[nltk_data]   Package names is already up-to-date!\n"
          ]
        }
      ],
      "source": [
        "import numpy as np\n",
        "import nltk\n",
        "nltk.download('names')\n",
        "from nltk.corpus import names\n",
        "import random\n"
      ]
    },
    {
      "cell_type": "code",
      "source": [
        "labeled_names = ([(name, 'male') for name in names.words('male.txt')] +\n",
        "                 [(name, 'female') for name in names.words('female.txt')])\n",
        "\n",
        "random.shuffle(labeled_names)"
      ],
      "metadata": {
        "id": "IaXgXiVh_FTv"
      },
      "execution_count": 2,
      "outputs": []
    },
    {
      "cell_type": "code",
      "source": [
        "labeled_names[:10]"
      ],
      "metadata": {
        "colab": {
          "base_uri": "https://localhost:8080/"
        },
        "id": "Rx2GDckp_c7t",
        "outputId": "381ffe49-4c80-4779-b0b5-3a94d19b93c1"
      },
      "execution_count": 3,
      "outputs": [
        {
          "output_type": "execute_result",
          "data": {
            "text/plain": [
              "[('Heinz', 'male'),\n",
              " ('Lilli', 'female'),\n",
              " ('Zared', 'male'),\n",
              " ('Goose', 'male'),\n",
              " ('Nonah', 'female'),\n",
              " ('Baird', 'male'),\n",
              " ('Myrtle', 'female'),\n",
              " ('Aila', 'female'),\n",
              " ('Bear', 'male'),\n",
              " ('Elna', 'female')]"
            ]
          },
          "metadata": {},
          "execution_count": 3
        }
      ]
    },
    {
      "cell_type": "code",
      "source": [
        "len(labeled_names)"
      ],
      "metadata": {
        "colab": {
          "base_uri": "https://localhost:8080/"
        },
        "id": "N7gf1dRoAbnY",
        "outputId": "d103a811-477e-4670-b0fc-9b7dc55bc1e8"
      },
      "execution_count": 4,
      "outputs": [
        {
          "output_type": "execute_result",
          "data": {
            "text/plain": [
              "7944"
            ]
          },
          "metadata": {},
          "execution_count": 4
        }
      ]
    },
    {
      "cell_type": "markdown",
      "source": [
        "# **1. Simple Model**"
      ],
      "metadata": {
        "id": "n_bupbnDEU_2"
      }
    },
    {
      "cell_type": "markdown",
      "source": [
        "# Feature Engineering\n",
        "* Now our unit for classification is a name.\n",
        "*  In feature engineering, our goal is to transform the texts (i.e., names) into vectorized representations.\n",
        "*  To start with, let’s represent each text (name) by using its last character as the features."
      ],
      "metadata": {
        "id": "A7cWlDBh_vD6"
      }
    },
    {
      "cell_type": "code",
      "source": [
        "def text_vectorizer(word):\n",
        "  return {'last_letter': word[-1]}\n",
        "\n",
        "text_vectorizer('shrek')"
      ],
      "metadata": {
        "colab": {
          "base_uri": "https://localhost:8080/"
        },
        "id": "QV6lKuhk_oUO",
        "outputId": "158fe748-2ba9-4028-da37-62acefdc8579"
      },
      "execution_count": 5,
      "outputs": [
        {
          "output_type": "execute_result",
          "data": {
            "text/plain": [
              "{'last_letter': 'k'}"
            ]
          },
          "metadata": {},
          "execution_count": 5
        }
      ]
    },
    {
      "cell_type": "markdown",
      "source": [
        "# Train-Test Split\n",
        "We then apply the feature engineering method to every text in the data and split the data into training and testing sets."
      ],
      "metadata": {
        "id": "LHGQspDfATUA"
      }
    },
    {
      "cell_type": "code",
      "source": [
        "featuresets = [(text_vectorizer(n), gender) for (n, gender) in labeled_names]\n",
        "train_set, test_set = featuresets[500:], featuresets[:500]"
      ],
      "metadata": {
        "id": "OBZSKfu-AQKk"
      },
      "execution_count": 6,
      "outputs": []
    },
    {
      "cell_type": "code",
      "source": [
        "len(train_set), len(test_set)"
      ],
      "metadata": {
        "colab": {
          "base_uri": "https://localhost:8080/"
        },
        "id": "IYL0d4ouAwCG",
        "outputId": "4bd8a734-651c-4938-85d9-f302d6785b07"
      },
      "execution_count": 7,
      "outputs": [
        {
          "output_type": "execute_result",
          "data": {
            "text/plain": [
              "(7444, 500)"
            ]
          },
          "metadata": {},
          "execution_count": 7
        }
      ]
    },
    {
      "cell_type": "markdown",
      "source": [
        "# **Train the Model - simple Naive Bayes**\n",
        "A good start is to try the simple Naive Bayes Classifier."
      ],
      "metadata": {
        "id": "D3d1C5ojBUKP"
      }
    },
    {
      "cell_type": "code",
      "source": [
        "classifier = nltk.NaiveBayesClassifier.train(train_set)"
      ],
      "metadata": {
        "id": "LbPLMFMtBMVV"
      },
      "execution_count": 8,
      "outputs": []
    },
    {
      "cell_type": "markdown",
      "source": [
        "# Model Prediction"
      ],
      "metadata": {
        "id": "43yhuYe8BgAP"
      }
    },
    {
      "cell_type": "code",
      "source": [
        "print(classifier.classify(text_vectorizer('Neo')))\n",
        "print(classifier.classify(text_vectorizer('Trinity')))\n",
        "print(classifier.classify(text_vectorizer('Alvin')))"
      ],
      "metadata": {
        "colab": {
          "base_uri": "https://localhost:8080/"
        },
        "id": "zyFInYktBdju",
        "outputId": "9b77706a-ea96-4ff3-ce51-4dfa8459b532"
      },
      "execution_count": 9,
      "outputs": [
        {
          "output_type": "stream",
          "name": "stdout",
          "text": [
            "male\n",
            "female\n",
            "male\n"
          ]
        }
      ]
    },
    {
      "cell_type": "code",
      "source": [
        "print(nltk.classify.accuracy(classifier, test_set))"
      ],
      "metadata": {
        "colab": {
          "base_uri": "https://localhost:8080/"
        },
        "id": "xBkRWs7TB6JE",
        "outputId": "5456dd76-4ce2-4aa7-821f-b5c56c744c71"
      },
      "execution_count": 10,
      "outputs": [
        {
          "output_type": "stream",
          "name": "stdout",
          "text": [
            "0.774\n"
          ]
        }
      ]
    },
    {
      "cell_type": "markdown",
      "source": [
        "# Post-hoc Analysis\n",
        "One of the most important steps after model training is to examine which features contribute the most to the classifier prediction of the class."
      ],
      "metadata": {
        "id": "wTszij4yCQOX"
      }
    },
    {
      "cell_type": "code",
      "source": [
        "classifier.show_most_informative_features(5)"
      ],
      "metadata": {
        "colab": {
          "base_uri": "https://localhost:8080/"
        },
        "id": "VclERAQQCENV",
        "outputId": "2b4b97f9-08a2-4903-8a19-9635f3592619"
      },
      "execution_count": 11,
      "outputs": [
        {
          "output_type": "stream",
          "name": "stdout",
          "text": [
            "Most Informative Features\n",
            "             last_letter = 'a'            female : male   =     36.8 : 1.0\n",
            "             last_letter = 'k'              male : female =     30.8 : 1.0\n",
            "             last_letter = 'f'              male : female =     16.6 : 1.0\n",
            "             last_letter = 'p'              male : female =     11.2 : 1.0\n",
            "             last_letter = 'd'              male : female =      9.9 : 1.0\n"
          ]
        }
      ]
    },
    {
      "cell_type": "markdown",
      "source": [
        "* Please note that in NLTK, we can use the apply_features to create training and testing datasets.\n",
        "\n",
        "* When you have a very large feature set, this can be more effective in terms of memory management.\n",
        "\n",
        "* This is our earlier method of creating training and testing sets:"
      ],
      "metadata": {
        "id": "w87ZSGz7CitM"
      }
    },
    {
      "cell_type": "code",
      "source": [
        "# featuresets = [(text_vectorizer(n), gender) for (n, gender) in labeled_names]\n",
        "# train_set, test_set = featuresets[500:], featuresets[:500]\n",
        "\n",
        "from nltk.classify import apply_features\n",
        "train_set = apply_features(text_vectorizer, labeled_names[500:])\n",
        "test_set = apply_features(text_vectorizer, labeled_names[:500])"
      ],
      "metadata": {
        "id": "MscG3ZJcCWM9"
      },
      "execution_count": 12,
      "outputs": []
    },
    {
      "cell_type": "markdown",
      "source": [
        "# 2. How can we improve the model/classifier?\n",
        "In the following, we will talk about methods that we may consider to further improve the model training.\n",
        "\n",
        "* Feature Engineering\n",
        "* Error Analysis\n",
        "* Cross Validation\n",
        "* Try Different Machine-Learning Algorithms\n",
        "* (Ensemble Methods)'\n",
        "\n",
        "More Sophisticated Feature Engineering\n",
        "* We can extract more features from the names.\n",
        "* Use the following features for vectorized representations of names:\n",
        "  * The first/last letter\n",
        "  * Frequencies of all 26 alphabets in the names"
      ],
      "metadata": {
        "id": "CqK-YbVFDx8m"
      }
    },
    {
      "cell_type": "code",
      "source": [
        "def text_vectorizer2(name):\n",
        "  features = {}\n",
        "  features[\"first_letter\"] = name[0].lower()\n",
        "  features[\"last_letter\"] = name[-1].lower()\n",
        "  for letter in 'abcdefghijklmnopqrstuvwxyz':\n",
        "    features[\"count({})\".format(letter)] = name.lower()\n",
        "    features[\"has({})\".format(letter)] = (letter in name.lower())\n",
        "  return features\n",
        "\n",
        "text_vectorizer2('Alvin')"
      ],
      "metadata": {
        "colab": {
          "base_uri": "https://localhost:8080/"
        },
        "id": "0iCLh5UeDAoh",
        "outputId": "76d2c8e9-6534-4db7-e2f2-27549f222a61"
      },
      "execution_count": 13,
      "outputs": [
        {
          "output_type": "execute_result",
          "data": {
            "text/plain": [
              "{'first_letter': 'a',\n",
              " 'last_letter': 'n',\n",
              " 'count(a)': 'alvin',\n",
              " 'has(a)': True,\n",
              " 'count(b)': 'alvin',\n",
              " 'has(b)': False,\n",
              " 'count(c)': 'alvin',\n",
              " 'has(c)': False,\n",
              " 'count(d)': 'alvin',\n",
              " 'has(d)': False,\n",
              " 'count(e)': 'alvin',\n",
              " 'has(e)': False,\n",
              " 'count(f)': 'alvin',\n",
              " 'has(f)': False,\n",
              " 'count(g)': 'alvin',\n",
              " 'has(g)': False,\n",
              " 'count(h)': 'alvin',\n",
              " 'has(h)': False,\n",
              " 'count(i)': 'alvin',\n",
              " 'has(i)': True,\n",
              " 'count(j)': 'alvin',\n",
              " 'has(j)': False,\n",
              " 'count(k)': 'alvin',\n",
              " 'has(k)': False,\n",
              " 'count(l)': 'alvin',\n",
              " 'has(l)': True,\n",
              " 'count(m)': 'alvin',\n",
              " 'has(m)': False,\n",
              " 'count(n)': 'alvin',\n",
              " 'has(n)': True,\n",
              " 'count(o)': 'alvin',\n",
              " 'has(o)': False,\n",
              " 'count(p)': 'alvin',\n",
              " 'has(p)': False,\n",
              " 'count(q)': 'alvin',\n",
              " 'has(q)': False,\n",
              " 'count(r)': 'alvin',\n",
              " 'has(r)': False,\n",
              " 'count(s)': 'alvin',\n",
              " 'has(s)': False,\n",
              " 'count(t)': 'alvin',\n",
              " 'has(t)': False,\n",
              " 'count(u)': 'alvin',\n",
              " 'has(u)': False,\n",
              " 'count(v)': 'alvin',\n",
              " 'has(v)': True,\n",
              " 'count(w)': 'alvin',\n",
              " 'has(w)': False,\n",
              " 'count(x)': 'alvin',\n",
              " 'has(x)': False,\n",
              " 'count(y)': 'alvin',\n",
              " 'has(y)': False,\n",
              " 'count(z)': 'alvin',\n",
              " 'has(z)': False}"
            ]
          },
          "metadata": {},
          "execution_count": 13
        }
      ]
    },
    {
      "cell_type": "code",
      "source": [
        "text_vectorizer2('John')"
      ],
      "metadata": {
        "colab": {
          "base_uri": "https://localhost:8080/"
        },
        "id": "YpUlbhYkFKb_",
        "outputId": "ebeb72fa-1b1c-48ae-f2d4-a95b09e1328c"
      },
      "execution_count": 14,
      "outputs": [
        {
          "output_type": "execute_result",
          "data": {
            "text/plain": [
              "{'first_letter': 'j',\n",
              " 'last_letter': 'n',\n",
              " 'count(a)': 'john',\n",
              " 'has(a)': False,\n",
              " 'count(b)': 'john',\n",
              " 'has(b)': False,\n",
              " 'count(c)': 'john',\n",
              " 'has(c)': False,\n",
              " 'count(d)': 'john',\n",
              " 'has(d)': False,\n",
              " 'count(e)': 'john',\n",
              " 'has(e)': False,\n",
              " 'count(f)': 'john',\n",
              " 'has(f)': False,\n",
              " 'count(g)': 'john',\n",
              " 'has(g)': False,\n",
              " 'count(h)': 'john',\n",
              " 'has(h)': True,\n",
              " 'count(i)': 'john',\n",
              " 'has(i)': False,\n",
              " 'count(j)': 'john',\n",
              " 'has(j)': True,\n",
              " 'count(k)': 'john',\n",
              " 'has(k)': False,\n",
              " 'count(l)': 'john',\n",
              " 'has(l)': False,\n",
              " 'count(m)': 'john',\n",
              " 'has(m)': False,\n",
              " 'count(n)': 'john',\n",
              " 'has(n)': True,\n",
              " 'count(o)': 'john',\n",
              " 'has(o)': True,\n",
              " 'count(p)': 'john',\n",
              " 'has(p)': False,\n",
              " 'count(q)': 'john',\n",
              " 'has(q)': False,\n",
              " 'count(r)': 'john',\n",
              " 'has(r)': False,\n",
              " 'count(s)': 'john',\n",
              " 'has(s)': False,\n",
              " 'count(t)': 'john',\n",
              " 'has(t)': False,\n",
              " 'count(u)': 'john',\n",
              " 'has(u)': False,\n",
              " 'count(v)': 'john',\n",
              " 'has(v)': False,\n",
              " 'count(w)': 'john',\n",
              " 'has(w)': False,\n",
              " 'count(x)': 'john',\n",
              " 'has(x)': False,\n",
              " 'count(y)': 'john',\n",
              " 'has(y)': False,\n",
              " 'count(z)': 'john',\n",
              " 'has(z)': False}"
            ]
          },
          "metadata": {},
          "execution_count": 14
        }
      ]
    },
    {
      "cell_type": "code",
      "source": [
        "train_set = apply_features(text_vectorizer2, labeled_names[500:])\n",
        "test_set = apply_features(text_vectorizer2, labeled_names[:500])\n",
        "\n",
        "classifier = nltk.NaiveBayesClassifier.train(train_set)\n",
        "print(nltk.classify.accuracy(classifier, test_set))"
      ],
      "metadata": {
        "colab": {
          "base_uri": "https://localhost:8080/"
        },
        "id": "nktZTRbOFO2E",
        "outputId": "81ecc431-aef3-49d1-b2a2-7519a818d79e"
      },
      "execution_count": 15,
      "outputs": [
        {
          "output_type": "stream",
          "name": "stdout",
          "text": [
            "0.332\n"
          ]
        }
      ]
    },
    {
      "cell_type": "code",
      "source": [
        "classifier.show_most_informative_features(n=20)"
      ],
      "metadata": {
        "colab": {
          "base_uri": "https://localhost:8080/"
        },
        "id": "TVSn2mOCGnIM",
        "outputId": "7a0d3026-36a2-40bf-f321-0952a29f0de6"
      },
      "execution_count": 16,
      "outputs": [
        {
          "output_type": "stream",
          "name": "stdout",
          "text": [
            "Most Informative Features\n",
            "             last_letter = 'a'            female : male   =     36.8 : 1.0\n",
            "             last_letter = 'k'              male : female =     30.8 : 1.0\n",
            "             last_letter = 'f'              male : female =     16.6 : 1.0\n",
            "             last_letter = 'p'              male : female =     11.2 : 1.0\n",
            "             last_letter = 'd'              male : female =      9.9 : 1.0\n",
            "             last_letter = 'm'              male : female =      9.3 : 1.0\n",
            "             last_letter = 'v'              male : female =      9.2 : 1.0\n",
            "             last_letter = 'o'              male : female =      7.8 : 1.0\n",
            "             last_letter = 'r'              male : female =      6.9 : 1.0\n",
            "             last_letter = 'g'              male : female =      5.5 : 1.0\n",
            "             last_letter = 'w'              male : female =      5.1 : 1.0\n",
            "            first_letter = 'w'              male : female =      5.0 : 1.0\n",
            "                  has(w) = True             male : female =      4.4 : 1.0\n",
            "             last_letter = 's'              male : female =      4.2 : 1.0\n",
            "             last_letter = 't'              male : female =      4.0 : 1.0\n",
            "             last_letter = 'z'              male : female =      4.0 : 1.0\n",
            "             last_letter = 'j'              male : female =      4.0 : 1.0\n",
            "             last_letter = 'i'            female : male   =      3.7 : 1.0\n",
            "             last_letter = 'b'              male : female =      3.7 : 1.0\n",
            "             last_letter = 'u'              male : female =      3.3 : 1.0\n"
          ]
        }
      ]
    },
    {
      "cell_type": "markdown",
      "source": [
        "# Train-Development-Test Data Splits for Error Analysis\n",
        "* Normally we have training-testing splits of data\n",
        "* Sometimes we can use development (dev) set for error analysis and feature engineering.\n",
        "* This dev set should be independent of training and testing sets.\n",
        "* Now let’s train the model on the training set and first check the classifier’s performance on the dev set.\n",
        "* We then identify the errors the classifier made in the dev set.\n",
        "* We perform error analysis for further improvement.\n",
        "* We only test our final model on the testing set. (Note: Testing set can only be used once.)"
      ],
      "metadata": {
        "id": "lkPUnyYlJ_X1"
      }
    },
    {
      "cell_type": "code",
      "source": [
        "# Using text_vectorizer\n",
        "\n",
        "train_names = labeled_names[1500:]\n",
        "devtest_names = labeled_names[500:1500]\n",
        "test_names = labeled_names[:500]\n",
        "\n",
        "train_set = [(text_vectorizer(n), gender) for (n, gender) in train_names]\n",
        "devtest_set = [(text_vectorizer(n), gender) for (n, gender) in devtest_names]\n",
        "test_set = [(text_vectorizer(n), gender) for (n, gender) in test_names]\n",
        "classifier = nltk.NaiveBayesClassifier.train(train_set)\n",
        "print(nltk.classify.accuracy(classifier, devtest_set))"
      ],
      "metadata": {
        "colab": {
          "base_uri": "https://localhost:8080/"
        },
        "id": "3X-1Z5LRHSCO",
        "outputId": "ae36fd16-20d0-459d-d392-c5481ab4b8c5"
      },
      "execution_count": 17,
      "outputs": [
        {
          "output_type": "stream",
          "name": "stdout",
          "text": [
            "0.774\n"
          ]
        }
      ]
    },
    {
      "cell_type": "code",
      "source": [
        "errors = []\n",
        "for (name, tag) in devtest_names:\n",
        "  guess = classifier.classify(text_vectorizer(name))\n",
        "  if guess !=tag:\n",
        "    errors.append((tag, guess, name))"
      ],
      "metadata": {
        "id": "RSw3N5JLKdTN"
      },
      "execution_count": 18,
      "outputs": []
    },
    {
      "cell_type": "code",
      "source": [
        "import pandas as pd\n",
        "pd.DataFrame(errors, columns= ['tag', 'guess', 'name'])"
      ],
      "metadata": {
        "colab": {
          "base_uri": "https://localhost:8080/",
          "height": 423
        },
        "id": "pqF0Qd-oMXzX",
        "outputId": "2f213fd4-ee19-4817-b444-702befc10f20"
      },
      "execution_count": 19,
      "outputs": [
        {
          "output_type": "execute_result",
          "data": {
            "text/plain": [
              "        tag   guess       name\n",
              "0    female    male   Jaquelyn\n",
              "1    female    male     Mariel\n",
              "2    female    male    Madelin\n",
              "3      male  female  Frederich\n",
              "4    female    male     Noelyn\n",
              "..      ...     ...        ...\n",
              "221  female    male    Isabeau\n",
              "222    male  female     George\n",
              "223    male  female      Maury\n",
              "224    male  female      Kirby\n",
              "225  female    male     Dareen\n",
              "\n",
              "[226 rows x 3 columns]"
            ],
            "text/html": [
              "\n",
              "  <div id=\"df-a2267370-229a-4e46-b7c4-c703765492cc\" class=\"colab-df-container\">\n",
              "    <div>\n",
              "<style scoped>\n",
              "    .dataframe tbody tr th:only-of-type {\n",
              "        vertical-align: middle;\n",
              "    }\n",
              "\n",
              "    .dataframe tbody tr th {\n",
              "        vertical-align: top;\n",
              "    }\n",
              "\n",
              "    .dataframe thead th {\n",
              "        text-align: right;\n",
              "    }\n",
              "</style>\n",
              "<table border=\"1\" class=\"dataframe\">\n",
              "  <thead>\n",
              "    <tr style=\"text-align: right;\">\n",
              "      <th></th>\n",
              "      <th>tag</th>\n",
              "      <th>guess</th>\n",
              "      <th>name</th>\n",
              "    </tr>\n",
              "  </thead>\n",
              "  <tbody>\n",
              "    <tr>\n",
              "      <th>0</th>\n",
              "      <td>female</td>\n",
              "      <td>male</td>\n",
              "      <td>Jaquelyn</td>\n",
              "    </tr>\n",
              "    <tr>\n",
              "      <th>1</th>\n",
              "      <td>female</td>\n",
              "      <td>male</td>\n",
              "      <td>Mariel</td>\n",
              "    </tr>\n",
              "    <tr>\n",
              "      <th>2</th>\n",
              "      <td>female</td>\n",
              "      <td>male</td>\n",
              "      <td>Madelin</td>\n",
              "    </tr>\n",
              "    <tr>\n",
              "      <th>3</th>\n",
              "      <td>male</td>\n",
              "      <td>female</td>\n",
              "      <td>Frederich</td>\n",
              "    </tr>\n",
              "    <tr>\n",
              "      <th>4</th>\n",
              "      <td>female</td>\n",
              "      <td>male</td>\n",
              "      <td>Noelyn</td>\n",
              "    </tr>\n",
              "    <tr>\n",
              "      <th>...</th>\n",
              "      <td>...</td>\n",
              "      <td>...</td>\n",
              "      <td>...</td>\n",
              "    </tr>\n",
              "    <tr>\n",
              "      <th>221</th>\n",
              "      <td>female</td>\n",
              "      <td>male</td>\n",
              "      <td>Isabeau</td>\n",
              "    </tr>\n",
              "    <tr>\n",
              "      <th>222</th>\n",
              "      <td>male</td>\n",
              "      <td>female</td>\n",
              "      <td>George</td>\n",
              "    </tr>\n",
              "    <tr>\n",
              "      <th>223</th>\n",
              "      <td>male</td>\n",
              "      <td>female</td>\n",
              "      <td>Maury</td>\n",
              "    </tr>\n",
              "    <tr>\n",
              "      <th>224</th>\n",
              "      <td>male</td>\n",
              "      <td>female</td>\n",
              "      <td>Kirby</td>\n",
              "    </tr>\n",
              "    <tr>\n",
              "      <th>225</th>\n",
              "      <td>female</td>\n",
              "      <td>male</td>\n",
              "      <td>Dareen</td>\n",
              "    </tr>\n",
              "  </tbody>\n",
              "</table>\n",
              "<p>226 rows × 3 columns</p>\n",
              "</div>\n",
              "    <div class=\"colab-df-buttons\">\n",
              "\n",
              "  <div class=\"colab-df-container\">\n",
              "    <button class=\"colab-df-convert\" onclick=\"convertToInteractive('df-a2267370-229a-4e46-b7c4-c703765492cc')\"\n",
              "            title=\"Convert this dataframe to an interactive table.\"\n",
              "            style=\"display:none;\">\n",
              "\n",
              "  <svg xmlns=\"http://www.w3.org/2000/svg\" height=\"24px\" viewBox=\"0 -960 960 960\">\n",
              "    <path d=\"M120-120v-720h720v720H120Zm60-500h600v-160H180v160Zm220 220h160v-160H400v160Zm0 220h160v-160H400v160ZM180-400h160v-160H180v160Zm440 0h160v-160H620v160ZM180-180h160v-160H180v160Zm440 0h160v-160H620v160Z\"/>\n",
              "  </svg>\n",
              "    </button>\n",
              "\n",
              "  <style>\n",
              "    .colab-df-container {\n",
              "      display:flex;\n",
              "      gap: 12px;\n",
              "    }\n",
              "\n",
              "    .colab-df-convert {\n",
              "      background-color: #E8F0FE;\n",
              "      border: none;\n",
              "      border-radius: 50%;\n",
              "      cursor: pointer;\n",
              "      display: none;\n",
              "      fill: #1967D2;\n",
              "      height: 32px;\n",
              "      padding: 0 0 0 0;\n",
              "      width: 32px;\n",
              "    }\n",
              "\n",
              "    .colab-df-convert:hover {\n",
              "      background-color: #E2EBFA;\n",
              "      box-shadow: 0px 1px 2px rgba(60, 64, 67, 0.3), 0px 1px 3px 1px rgba(60, 64, 67, 0.15);\n",
              "      fill: #174EA6;\n",
              "    }\n",
              "\n",
              "    .colab-df-buttons div {\n",
              "      margin-bottom: 4px;\n",
              "    }\n",
              "\n",
              "    [theme=dark] .colab-df-convert {\n",
              "      background-color: #3B4455;\n",
              "      fill: #D2E3FC;\n",
              "    }\n",
              "\n",
              "    [theme=dark] .colab-df-convert:hover {\n",
              "      background-color: #434B5C;\n",
              "      box-shadow: 0px 1px 3px 1px rgba(0, 0, 0, 0.15);\n",
              "      filter: drop-shadow(0px 1px 2px rgba(0, 0, 0, 0.3));\n",
              "      fill: #FFFFFF;\n",
              "    }\n",
              "  </style>\n",
              "\n",
              "    <script>\n",
              "      const buttonEl =\n",
              "        document.querySelector('#df-a2267370-229a-4e46-b7c4-c703765492cc button.colab-df-convert');\n",
              "      buttonEl.style.display =\n",
              "        google.colab.kernel.accessAllowed ? 'block' : 'none';\n",
              "\n",
              "      async function convertToInteractive(key) {\n",
              "        const element = document.querySelector('#df-a2267370-229a-4e46-b7c4-c703765492cc');\n",
              "        const dataTable =\n",
              "          await google.colab.kernel.invokeFunction('convertToInteractive',\n",
              "                                                    [key], {});\n",
              "        if (!dataTable) return;\n",
              "\n",
              "        const docLinkHtml = 'Like what you see? Visit the ' +\n",
              "          '<a target=\"_blank\" href=https://colab.research.google.com/notebooks/data_table.ipynb>data table notebook</a>'\n",
              "          + ' to learn more about interactive tables.';\n",
              "        element.innerHTML = '';\n",
              "        dataTable['output_type'] = 'display_data';\n",
              "        await google.colab.output.renderOutput(dataTable, element);\n",
              "        const docLink = document.createElement('div');\n",
              "        docLink.innerHTML = docLinkHtml;\n",
              "        element.appendChild(docLink);\n",
              "      }\n",
              "    </script>\n",
              "  </div>\n",
              "\n",
              "\n",
              "<div id=\"df-16c3d694-650b-4a24-8113-884de30607b3\">\n",
              "  <button class=\"colab-df-quickchart\" onclick=\"quickchart('df-16c3d694-650b-4a24-8113-884de30607b3')\"\n",
              "            title=\"Suggest charts.\"\n",
              "            style=\"display:none;\">\n",
              "\n",
              "<svg xmlns=\"http://www.w3.org/2000/svg\" height=\"24px\"viewBox=\"0 0 24 24\"\n",
              "     width=\"24px\">\n",
              "    <g>\n",
              "        <path d=\"M19 3H5c-1.1 0-2 .9-2 2v14c0 1.1.9 2 2 2h14c1.1 0 2-.9 2-2V5c0-1.1-.9-2-2-2zM9 17H7v-7h2v7zm4 0h-2V7h2v10zm4 0h-2v-4h2v4z\"/>\n",
              "    </g>\n",
              "</svg>\n",
              "  </button>\n",
              "\n",
              "<style>\n",
              "  .colab-df-quickchart {\n",
              "      --bg-color: #E8F0FE;\n",
              "      --fill-color: #1967D2;\n",
              "      --hover-bg-color: #E2EBFA;\n",
              "      --hover-fill-color: #174EA6;\n",
              "      --disabled-fill-color: #AAA;\n",
              "      --disabled-bg-color: #DDD;\n",
              "  }\n",
              "\n",
              "  [theme=dark] .colab-df-quickchart {\n",
              "      --bg-color: #3B4455;\n",
              "      --fill-color: #D2E3FC;\n",
              "      --hover-bg-color: #434B5C;\n",
              "      --hover-fill-color: #FFFFFF;\n",
              "      --disabled-bg-color: #3B4455;\n",
              "      --disabled-fill-color: #666;\n",
              "  }\n",
              "\n",
              "  .colab-df-quickchart {\n",
              "    background-color: var(--bg-color);\n",
              "    border: none;\n",
              "    border-radius: 50%;\n",
              "    cursor: pointer;\n",
              "    display: none;\n",
              "    fill: var(--fill-color);\n",
              "    height: 32px;\n",
              "    padding: 0;\n",
              "    width: 32px;\n",
              "  }\n",
              "\n",
              "  .colab-df-quickchart:hover {\n",
              "    background-color: var(--hover-bg-color);\n",
              "    box-shadow: 0 1px 2px rgba(60, 64, 67, 0.3), 0 1px 3px 1px rgba(60, 64, 67, 0.15);\n",
              "    fill: var(--button-hover-fill-color);\n",
              "  }\n",
              "\n",
              "  .colab-df-quickchart-complete:disabled,\n",
              "  .colab-df-quickchart-complete:disabled:hover {\n",
              "    background-color: var(--disabled-bg-color);\n",
              "    fill: var(--disabled-fill-color);\n",
              "    box-shadow: none;\n",
              "  }\n",
              "\n",
              "  .colab-df-spinner {\n",
              "    border: 2px solid var(--fill-color);\n",
              "    border-color: transparent;\n",
              "    border-bottom-color: var(--fill-color);\n",
              "    animation:\n",
              "      spin 1s steps(1) infinite;\n",
              "  }\n",
              "\n",
              "  @keyframes spin {\n",
              "    0% {\n",
              "      border-color: transparent;\n",
              "      border-bottom-color: var(--fill-color);\n",
              "      border-left-color: var(--fill-color);\n",
              "    }\n",
              "    20% {\n",
              "      border-color: transparent;\n",
              "      border-left-color: var(--fill-color);\n",
              "      border-top-color: var(--fill-color);\n",
              "    }\n",
              "    30% {\n",
              "      border-color: transparent;\n",
              "      border-left-color: var(--fill-color);\n",
              "      border-top-color: var(--fill-color);\n",
              "      border-right-color: var(--fill-color);\n",
              "    }\n",
              "    40% {\n",
              "      border-color: transparent;\n",
              "      border-right-color: var(--fill-color);\n",
              "      border-top-color: var(--fill-color);\n",
              "    }\n",
              "    60% {\n",
              "      border-color: transparent;\n",
              "      border-right-color: var(--fill-color);\n",
              "    }\n",
              "    80% {\n",
              "      border-color: transparent;\n",
              "      border-right-color: var(--fill-color);\n",
              "      border-bottom-color: var(--fill-color);\n",
              "    }\n",
              "    90% {\n",
              "      border-color: transparent;\n",
              "      border-bottom-color: var(--fill-color);\n",
              "    }\n",
              "  }\n",
              "</style>\n",
              "\n",
              "  <script>\n",
              "    async function quickchart(key) {\n",
              "      const quickchartButtonEl =\n",
              "        document.querySelector('#' + key + ' button');\n",
              "      quickchartButtonEl.disabled = true;  // To prevent multiple clicks.\n",
              "      quickchartButtonEl.classList.add('colab-df-spinner');\n",
              "      try {\n",
              "        const charts = await google.colab.kernel.invokeFunction(\n",
              "            'suggestCharts', [key], {});\n",
              "      } catch (error) {\n",
              "        console.error('Error during call to suggestCharts:', error);\n",
              "      }\n",
              "      quickchartButtonEl.classList.remove('colab-df-spinner');\n",
              "      quickchartButtonEl.classList.add('colab-df-quickchart-complete');\n",
              "    }\n",
              "    (() => {\n",
              "      let quickchartButtonEl =\n",
              "        document.querySelector('#df-16c3d694-650b-4a24-8113-884de30607b3 button');\n",
              "      quickchartButtonEl.style.display =\n",
              "        google.colab.kernel.accessAllowed ? 'block' : 'none';\n",
              "    })();\n",
              "  </script>\n",
              "</div>\n",
              "    </div>\n",
              "  </div>\n"
            ]
          },
          "metadata": {},
          "execution_count": 19
        }
      ]
    },
    {
      "cell_type": "markdown",
      "source": [
        "# **Confusion Matrix**"
      ],
      "metadata": {
        "id": "BqD_Ah7uNFQJ"
      }
    },
    {
      "cell_type": "code",
      "source": [
        "print('Accuracy: {:4.2f}'.format(nltk.classify.accuracy(classifier, test_set)))"
      ],
      "metadata": {
        "colab": {
          "base_uri": "https://localhost:8080/"
        },
        "id": "uBvxcFAjNKpp",
        "outputId": "9ea80ec8-f811-4f2c-e167-7ef7739382b4"
      },
      "execution_count": 20,
      "outputs": [
        {
          "output_type": "stream",
          "name": "stdout",
          "text": [
            "Accuracy: 0.77\n"
          ]
        }
      ]
    },
    {
      "cell_type": "code",
      "source": [
        "def createCM(classifier, test_set):\n",
        "  t_f = [feature for (feature, label) in test_set]\n",
        "  t_l = [label for (feature, label) in test_set]\n",
        "  t_l_pr = [classifier.classify(f) for f in t_f]\n",
        "  cm = nltk.ConfusionMatrix(t_l, t_l_pr)\n",
        "  print(cm.pretty_format(sort_by_count=True, show_percents=True, truncate=9))"
      ],
      "metadata": {
        "id": "vTJ3koaOMmws"
      },
      "execution_count": 21,
      "outputs": []
    },
    {
      "cell_type": "code",
      "source": [
        "createCM(classifier, test_set)"
      ],
      "metadata": {
        "colab": {
          "base_uri": "https://localhost:8080/"
        },
        "id": "3UMM9-UCOEle",
        "outputId": "968da2f6-0964-44d1-d105-f303da67c03b"
      },
      "execution_count": 22,
      "outputs": [
        {
          "output_type": "stream",
          "name": "stdout",
          "text": [
            "       |      f        |\n",
            "       |      e        |\n",
            "       |      m      m |\n",
            "       |      a      a |\n",
            "       |      l      l |\n",
            "       |      e      e |\n",
            "-------+---------------+\n",
            "female | <52.8%>  9.8% |\n",
            "  male |  12.8% <24.6%>|\n",
            "-------+---------------+\n",
            "(row = reference; col = test)\n",
            "\n"
          ]
        }
      ]
    },
    {
      "cell_type": "markdown",
      "source": [
        "# **Cross Validation**"
      ],
      "metadata": {
        "id": "bQA2Gr9zPL0v"
      }
    },
    {
      "cell_type": "code",
      "source": [
        "import sklearn.model_selection\n",
        "\n",
        "kf = sklearn.model_selection.KFold(n_splits=5)\n",
        "acc_kf = []\n",
        "\n",
        "for train_index, test_index in kf.split(train_set):\n",
        "  classifier = nltk.NaiveBayesClassifier.train(\n",
        "      train_set[train_index[0]:train_index[len(train_index)- 1]])\n",
        "  cur_fold_acc = nltk.classify.util.accuracy(\n",
        "      classifier, train_set[test_index[0]:test_index[len(test_index)-1]])\n",
        "  acc_kf.append(cur_fold_acc)\n",
        "  print('accuracy:', np.round(cur_fold_acc,2))"
      ],
      "metadata": {
        "colab": {
          "base_uri": "https://localhost:8080/"
        },
        "id": "Ae8MspulOdnY",
        "outputId": "b7110984-0ac5-499e-cd03-6788fd1b2032"
      },
      "execution_count": 23,
      "outputs": [
        {
          "output_type": "stream",
          "name": "stdout",
          "text": [
            "accuracy: 0.75\n",
            "accuracy: 0.77\n",
            "accuracy: 0.76\n",
            "accuracy: 0.75\n",
            "accuracy: 0.77\n"
          ]
        }
      ]
    },
    {
      "cell_type": "code",
      "source": [
        "np.mean(acc_kf)"
      ],
      "metadata": {
        "colab": {
          "base_uri": "https://localhost:8080/"
        },
        "id": "36cs3l3JRHEJ",
        "outputId": "a28d6411-0360-47b1-b181-0fbdb617f0df"
      },
      "execution_count": 24,
      "outputs": [
        {
          "output_type": "execute_result",
          "data": {
            "text/plain": [
              "0.760057454622672"
            ]
          },
          "metadata": {},
          "execution_count": 24
        }
      ]
    },
    {
      "cell_type": "markdown",
      "source": [
        "# **3. Naive Bayes in sklearn**"
      ],
      "metadata": {
        "id": "0DFjqN3FaCUu"
      }
    },
    {
      "cell_type": "code",
      "source": [
        "from nltk.classify.scikitlearn import SklearnClassifier\n",
        "from sklearn.naive_bayes import MultinomialNB\n",
        "\n",
        "sk_classifier = SklearnClassifier(MultinomialNB())\n",
        "sk_classifier.train(train_set)"
      ],
      "metadata": {
        "colab": {
          "base_uri": "https://localhost:8080/"
        },
        "id": "Uv92fmrYaJTm",
        "outputId": "f0e931d9-76a1-4968-8df8-82db7e8c056f"
      },
      "execution_count": 25,
      "outputs": [
        {
          "output_type": "execute_result",
          "data": {
            "text/plain": [
              "<SklearnClassifier(MultinomialNB())>"
            ]
          },
          "metadata": {},
          "execution_count": 25
        }
      ]
    },
    {
      "cell_type": "code",
      "source": [
        "nltk.classify.accuracy(sk_classifier, test_set)"
      ],
      "metadata": {
        "colab": {
          "base_uri": "https://localhost:8080/"
        },
        "id": "62KLlsUBaf3k",
        "outputId": "067e1c72-69d5-4032-f633-b259f852ead5"
      },
      "execution_count": 26,
      "outputs": [
        {
          "output_type": "execute_result",
          "data": {
            "text/plain": [
              "0.774"
            ]
          },
          "metadata": {},
          "execution_count": 26
        }
      ]
    },
    {
      "cell_type": "markdown",
      "source": [
        "# **4. Decision Tree**\n",
        "\n",
        "* Parameters:\n",
        "  * ***binary***: whether the features are binary\n",
        "  * ***entropy_cutoff:*** a value used during tree refinement process\n",
        "    * entropy = 1 -> high-level uncertainty\n",
        "    * entropy = 0 -> perfect model prediction\n",
        "  * ***depth_cutoff:*** to control the depth of the tree\n",
        "  * ***support_cutoff:*** the minimum number of instances that are required to make a decision about a feature."
      ],
      "metadata": {
        "id": "yuw77zkhXkZn"
      }
    },
    {
      "cell_type": "code",
      "source": [
        "from nltk.classify import DecisionTreeClassifier"
      ],
      "metadata": {
        "id": "MLVC3u9bRZwZ"
      },
      "execution_count": 27,
      "outputs": []
    },
    {
      "cell_type": "code",
      "source": [
        "%%time\n",
        "classifier_dt = DecisionTreeClassifier.train(train_set,\n",
        "                                             binary=True,\n",
        "                                             entropy_cutoff=0.7,\n",
        "                                             depth_cutoff=5,\n",
        "                                             support_cutoff=5)"
      ],
      "metadata": {
        "colab": {
          "base_uri": "https://localhost:8080/"
        },
        "id": "1uyGso1qXxrg",
        "outputId": "85863aa9-3a6c-4d72-bbde-0ce3101c8980"
      },
      "execution_count": 28,
      "outputs": [
        {
          "output_type": "stream",
          "name": "stdout",
          "text": [
            "CPU times: user 1.56 s, sys: 11.2 ms, total: 1.57 s\n",
            "Wall time: 1.59 s\n"
          ]
        }
      ]
    },
    {
      "cell_type": "code",
      "source": [
        "nltk.classify.accuracy(classifier_dt, test_set)"
      ],
      "metadata": {
        "colab": {
          "base_uri": "https://localhost:8080/"
        },
        "id": "TfF3u2irYFNL",
        "outputId": "80f9b26b-6678-4fab-e314-c875e5567da2"
      },
      "execution_count": 29,
      "outputs": [
        {
          "output_type": "execute_result",
          "data": {
            "text/plain": [
              "0.72"
            ]
          },
          "metadata": {},
          "execution_count": 29
        }
      ]
    },
    {
      "cell_type": "code",
      "source": [
        "createCM(classifier_dt, test_set)"
      ],
      "metadata": {
        "colab": {
          "base_uri": "https://localhost:8080/"
        },
        "id": "etFUmVxpYL_p",
        "outputId": "d08f3191-fc14-4742-8f0c-5b3508425e07"
      },
      "execution_count": 30,
      "outputs": [
        {
          "output_type": "stream",
          "name": "stdout",
          "text": [
            "       |      f        |\n",
            "       |      e        |\n",
            "       |      m      m |\n",
            "       |      a      a |\n",
            "       |      l      l |\n",
            "       |      e      e |\n",
            "-------+---------------+\n",
            "female | <59.4%>  3.2% |\n",
            "  male |  24.8% <12.6%>|\n",
            "-------+---------------+\n",
            "(row = reference; col = test)\n",
            "\n"
          ]
        }
      ]
    },
    {
      "cell_type": "code",
      "source": [
        "%%time\n",
        "\n",
        "for train_index, test_index in kf.split(train_set):\n",
        "  classifier = DecisionTreeClassifier.train(\n",
        "      train_set[train_index[0]:train_index[len(train_index)-1 ]],\n",
        "      binary = True,\n",
        "      entropy_cutoff=0.7,\n",
        "      depth_cutoff=5,\n",
        "      support_cutoff=5\n",
        "  )\n",
        "  print('accuracy:', nltk.classify.util.accuracy(classifier,\n",
        "                train_set[test_index[0]:test_index[len(test_index)-1]]))"
      ],
      "metadata": {
        "colab": {
          "base_uri": "https://localhost:8080/"
        },
        "id": "-HPf2uxbYOMA",
        "outputId": "4ca643ba-f776-4878-d83a-742ebb2f3e48"
      },
      "execution_count": 31,
      "outputs": [
        {
          "output_type": "stream",
          "name": "stdout",
          "text": [
            "accuracy: 0.6995341614906833\n",
            "accuracy: 0.7228260869565217\n",
            "accuracy: 0.7228260869565217\n",
            "accuracy: 0.717391304347826\n",
            "accuracy: 0.728049728049728\n",
            "CPU times: user 11.5 s, sys: 30.6 ms, total: 11.5 s\n",
            "Wall time: 17 s\n"
          ]
        }
      ]
    },
    {
      "cell_type": "markdown",
      "source": [
        "# **5. Logistic Regression**"
      ],
      "metadata": {
        "id": "YuK99pWyanfU"
      }
    },
    {
      "cell_type": "code",
      "source": [
        "from sklearn.linear_model import LogisticRegression\n",
        "\n",
        "sk_classifier = SklearnClassifier(LogisticRegression(max_iter=500))\n",
        "sk_classifier.train(train_set)\n",
        "nltk.classify.accuracy(sk_classifier, test_set)"
      ],
      "metadata": {
        "colab": {
          "base_uri": "https://localhost:8080/"
        },
        "id": "0TZMnQWpZm9C",
        "outputId": "051bd1db-6bde-4b49-9a98-c8b352f4ad13"
      },
      "execution_count": 32,
      "outputs": [
        {
          "output_type": "execute_result",
          "data": {
            "text/plain": [
              "0.776"
            ]
          },
          "metadata": {},
          "execution_count": 32
        }
      ]
    },
    {
      "cell_type": "markdown",
      "source": [
        "# **6. Support Vector Machine**"
      ],
      "metadata": {
        "id": "JSmlQzoRbUm0"
      }
    },
    {
      "cell_type": "code",
      "source": [
        "from sklearn.svm import SVC\n",
        "sk_classifier = SklearnClassifier(SVC())\n",
        "sk_classifier.train(train_set)\n",
        "nltk.classify.accuracy(sk_classifier, test_set)"
      ],
      "metadata": {
        "colab": {
          "base_uri": "https://localhost:8080/"
        },
        "id": "LsWtfn6Ha1wp",
        "outputId": "4d33c7ce-2567-4e90-cf8f-18c1f6d6c882"
      },
      "execution_count": 33,
      "outputs": [
        {
          "output_type": "execute_result",
          "data": {
            "text/plain": [
              "0.776"
            ]
          },
          "metadata": {},
          "execution_count": 33
        }
      ]
    },
    {
      "cell_type": "code",
      "source": [
        "from sklearn.svm import NuSVC\n",
        "sk_classifier = SklearnClassifier(NuSVC())\n",
        "sk_classifier.train(train_set)\n",
        "nltk.classify.accuracy(sk_classifier, test_set)"
      ],
      "metadata": {
        "colab": {
          "base_uri": "https://localhost:8080/"
        },
        "id": "sIE9mRapbgsQ",
        "outputId": "8969edf6-67dc-4f76-9f96-45b0a0be09c2"
      },
      "execution_count": 34,
      "outputs": [
        {
          "output_type": "execute_result",
          "data": {
            "text/plain": [
              "0.776"
            ]
          },
          "metadata": {},
          "execution_count": 34
        }
      ]
    },
    {
      "cell_type": "code",
      "source": [
        "from sklearn.svm import LinearSVC\n",
        "sk_classifier = SklearnClassifier(LinearSVC(max_iter=2000))\n",
        "sk_classifier.train(train_set)\n",
        "nltk.classify.accuracy(sk_classifier, test_set)"
      ],
      "metadata": {
        "colab": {
          "base_uri": "https://localhost:8080/"
        },
        "id": "eOwJBffgbb4E",
        "outputId": "5eb53dfe-742f-407b-c7ee-85871a026709"
      },
      "execution_count": 35,
      "outputs": [
        {
          "output_type": "execute_result",
          "data": {
            "text/plain": [
              "0.776"
            ]
          },
          "metadata": {},
          "execution_count": 35
        }
      ]
    },
    {
      "cell_type": "markdown",
      "source": [
        "#### *Need to required Further Tune the Model* ####"
      ],
      "metadata": {
        "id": "3ELO7zDablh2"
      }
    },
    {
      "cell_type": "code",
      "source": [],
      "metadata": {
        "id": "hVCsVIxKceUa"
      },
      "execution_count": null,
      "outputs": []
    }
  ]
}